{
 "cells": [
  {
   "cell_type": "markdown",
   "id": "39518962",
   "metadata": {},
   "source": [
    "Question 1:\n",
    "Write a program that calculates and prints the value according to the given formula:\n",
    "Q = Square root of [(2 * C * D)/H]\n",
    "Following are the fixed values of C and H:\n",
    "C is 50. H is 30.\n",
    "D is the variable whose values should be input to your program in a comma-separated\n",
    "sequence.\n",
    "Example\n",
    "Let us assume the following comma separated input sequence is given to the program:\n",
    "100,150,180\n",
    "The output of the program should be:\n",
    "18,22,24"
   ]
  },
  {
   "cell_type": "code",
   "execution_count": 1,
   "id": "d8b62331",
   "metadata": {},
   "outputs": [],
   "source": [
    "import numpy as np"
   ]
  },
  {
   "cell_type": "code",
   "execution_count": 15,
   "id": "744877cb",
   "metadata": {},
   "outputs": [
    {
     "name": "stdout",
     "output_type": "stream",
     "text": [
      "Enter the values: 100,150,180\n",
      "18,22,24\n"
     ]
    }
   ],
   "source": [
    "seq=(input(\"Enter the values: \"))\n",
    "Q=[]\n",
    "for D in seq.split(','):\n",
    "    C=50\n",
    "    H=30\n",
    "    Q.append(int(np.sqrt((2 * C * int(D))/H)))\n",
    "print(','.join(str(q) for q in Q))"
   ]
  },
  {
   "cell_type": "markdown",
   "id": "f41f6c00",
   "metadata": {},
   "source": [
    "Question 2:\n",
    "Write a program which takes 2 digits, X,Y as input and generates a 2-dimensional array. The\n",
    "element value in the i-th row and j-th column of the array should be i*j.\n",
    "Note: i=0,1.., X-1; j=0,1,¡Y-1.\n",
    "Example\n",
    "Suppose the following inputs are given to the program:\n",
    "3,5\n",
    "Then, the output of the program should be:\n",
    "[[0, 0, 0, 0, 0], [0, 1, 2, 3, 4], [0, 2, 4, 6, 8]]"
   ]
  },
  {
   "cell_type": "code",
   "execution_count": 24,
   "id": "1f21c062",
   "metadata": {},
   "outputs": [
    {
     "name": "stdout",
     "output_type": "stream",
     "text": [
      "Enter X:3\n",
      "Enter Y:5\n"
     ]
    },
    {
     "data": {
      "text/plain": [
       "array([[0, 0, 0, 0, 0],\n",
       "       [0, 1, 2, 3, 4],\n",
       "       [0, 2, 4, 6, 8]])"
      ]
     },
     "execution_count": 24,
     "metadata": {},
     "output_type": "execute_result"
    }
   ],
   "source": [
    "X= int(input(\"Enter X:\"))\n",
    "Y= int(input(\"Enter Y:\"))\n",
    "\n",
    "array=[]\n",
    "for i in range(X):\n",
    "    for j in range(Y):\n",
    "        array.append(i*j)\n",
    "np.reshape(array,[X,Y])"
   ]
  },
  {
   "cell_type": "markdown",
   "id": "309f0133",
   "metadata": {},
   "source": [
    "Question 3:\n",
    "Write a program that accepts a comma separated sequence of words as input and prints the\n",
    "words in a comma-separated sequence after sorting them alphabetically.\n",
    "Suppose the following input is supplied to the program:\n",
    "without,hello,bag,world\n",
    "Then, the output should be:\n",
    "bag,hello,without,world"
   ]
  },
  {
   "cell_type": "code",
   "execution_count": 29,
   "id": "6b537b41",
   "metadata": {},
   "outputs": [
    {
     "name": "stdout",
     "output_type": "stream",
     "text": [
      "Enter the values: without,hello,bag,world \n",
      "bag,hello,without,world \n"
     ]
    }
   ],
   "source": [
    "seq=(input(\"Enter the values: \"))\n",
    "print(','.join(sorted(seq.split(','))))"
   ]
  },
  {
   "cell_type": "markdown",
   "id": "f447a232",
   "metadata": {},
   "source": [
    "Question 4:\n",
    "Write a program that accepts a sequence of whitespace separated words as input and prints\n",
    "the words after removing all duplicate words and sorting them alphanumerically.\n",
    "Suppose the following input is supplied to the program:\n",
    "hello world and practice makes perfect and hello world again\n",
    "Then, the output should be:\n",
    "again and hello makes perfect practice world"
   ]
  },
  {
   "cell_type": "code",
   "execution_count": 36,
   "id": "eed1df85",
   "metadata": {},
   "outputs": [
    {
     "name": "stdout",
     "output_type": "stream",
     "text": [
      "Enter the values: hello world and practice makes perfect and hello world again\n",
      "again,and,hello,makes,perfect,practice,world\n"
     ]
    }
   ],
   "source": [
    "seq=(input(\"Enter the values: \"))\n",
    "print(','.join(sorted(list(set(seq.split(' '))))))"
   ]
  },
  {
   "cell_type": "markdown",
   "id": "9c3247f0",
   "metadata": {},
   "source": [
    "Question 5:\n",
    "Write a program that accepts a sentence and calculate the number of letters and digits.\n",
    "Suppose the following input is supplied to the program:\n",
    "hello world! 123\n",
    "Then, the output should be:\n",
    "LETTERS 10\n",
    "\n",
    "DIGITS 3"
   ]
  },
  {
   "cell_type": "code",
   "execution_count": 42,
   "id": "1cbf9261",
   "metadata": {},
   "outputs": [
    {
     "name": "stdout",
     "output_type": "stream",
     "text": [
      "Enter the values: hello world! 123\n",
      "letters=10, Digits=3\n"
     ]
    }
   ],
   "source": [
    "seq=(input(\"Enter the values: \"))\n",
    "letter=0\n",
    "digit=0\n",
    "for s in seq:\n",
    "    if s.isnumeric():\n",
    "        digit+=1\n",
    "    elif s.isalpha():\n",
    "        letter+=1\n",
    "print(f'letters={letter}, Digits={digit}')"
   ]
  },
  {
   "cell_type": "markdown",
   "id": "ca246513",
   "metadata": {},
   "source": [
    "Question 6:\n",
    "A website requires the users to input username and password to register. Write a program to\n",
    "check the validity of password input by users.\n",
    "Following are the criteria for checking the password:\n",
    "1. At least 1 letter between [a-z]\n",
    "2. At least 1 number between [0-9]\n",
    "1. At least 1 letter between [A-Z]\n",
    "3. At least 1 character from [$#@]\n",
    "4. Minimum length of transaction password: 6\n",
    "5. Maximum length of transaction password: 12\n",
    "Your program should accept a sequence of comma separated passwords and will check them\n",
    "according to the above criteria. Passwords that match the criteria are to be printed, each\n",
    "separated by a comma.\n",
    "Example\n",
    "If the following passwords are given as input to the program:\n",
    "ABd1234@1,a F1#,2w3E*,2We3345\n",
    "Then, the output of the program should be:\n",
    "ABd1234@1"
   ]
  },
  {
   "cell_type": "code",
   "execution_count": 80,
   "id": "504c0930",
   "metadata": {},
   "outputs": [
    {
     "name": "stdout",
     "output_type": "stream",
     "text": [
      "Enter Username: ABd1234@1,a F1#,2w3E*,2We3345\n",
      "Enter Password: ABd1234@1,a F1#,2w3E*,2We3345\n",
      "['a F1#']\n"
     ]
    }
   ],
   "source": [
    "import re\n",
    "user= input(\"Enter Username: \")\n",
    "pwds=input(\"Enter Password: \")\n",
    "lst=[]\n",
    "pwd= pwds.split(',')\n",
    "for p in pwd:\n",
    "\n",
    "    if  len(p)>6 and len(p)<12:\n",
    "        continue\n",
    "        \n",
    "    elif not (re.search(\"[a-z]\", p)):\n",
    "        continue\n",
    "        \n",
    "    elif not (re.search(\"[0-9]\", p)):\n",
    "        continue\n",
    "        \n",
    "    elif not (re.search('[A-Z]', p)):\n",
    "        continue\n",
    "       \n",
    "    elif not(re.search('[$#@]', p)):\n",
    "        continue\n",
    "    else:\n",
    "        pass\n",
    "    lst.append(p)\n",
    "print(lst)"
   ]
  },
  {
   "cell_type": "code",
   "execution_count": null,
   "id": "e2e4c753",
   "metadata": {},
   "outputs": [],
   "source": []
  }
 ],
 "metadata": {
  "kernelspec": {
   "display_name": "Python 3 (ipykernel)",
   "language": "python",
   "name": "python3"
  },
  "language_info": {
   "codemirror_mode": {
    "name": "ipython",
    "version": 3
   },
   "file_extension": ".py",
   "mimetype": "text/x-python",
   "name": "python",
   "nbconvert_exporter": "python",
   "pygments_lexer": "ipython3",
   "version": "3.9.7"
  }
 },
 "nbformat": 4,
 "nbformat_minor": 5
}
