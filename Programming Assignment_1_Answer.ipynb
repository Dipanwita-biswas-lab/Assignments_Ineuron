{
 "cells": [
  {
   "cell_type": "markdown",
   "id": "45b8d178",
   "metadata": {},
   "source": [
    "1. Write a Python program to print \"Hello Python\"?"
   ]
  },
  {
   "cell_type": "code",
   "execution_count": 1,
   "id": "b412b1cd",
   "metadata": {
    "scrolled": true
   },
   "outputs": [
    {
     "name": "stdout",
     "output_type": "stream",
     "text": [
      "Hello Python\n"
     ]
    }
   ],
   "source": [
    "print('Hello Python')"
   ]
  },
  {
   "cell_type": "markdown",
   "id": "3cc96093",
   "metadata": {},
   "source": [
    "2. Write a Python program to do arithmetical operations addition and division.?"
   ]
  },
  {
   "cell_type": "code",
   "execution_count": 19,
   "id": "c9e04e25",
   "metadata": {},
   "outputs": [
    {
     "name": "stdout",
     "output_type": "stream",
     "text": [
      "Enter the number 1: 10\n",
      "Enter the number 2: 20\n",
      "Which function you want to do (Addition/ Division): skdgf\n",
      "Please select a valid function\n"
     ]
    }
   ],
   "source": [
    "num1=int(input(\"Enter the number 1: \"))\n",
    "num2=int(input(\"Enter the number 2: \"))\n",
    "function= input(\"Which function you want to do (Addition/ Division): \")\n",
    "\n",
    "if function.lower()==\"addition\":\n",
    "    print(num1+num2)\n",
    "elif function.lower()==\"division\":\n",
    "    print(num1/num2)\n",
    "else:\n",
    "    print(\"Please select a valid function\")"
   ]
  },
  {
   "cell_type": "markdown",
   "id": "8a9b88c3",
   "metadata": {},
   "source": [
    "3. Write a Python program to find the area of a triangle?"
   ]
  },
  {
   "cell_type": "code",
   "execution_count": 3,
   "id": "03cd7e25",
   "metadata": {},
   "outputs": [
    {
     "name": "stdout",
     "output_type": "stream",
     "text": [
      "Enter the base measurement of the triangle: 10\n",
      "Enter the height measurement of the triangle: 20\n",
      " The area of this triangle is :100.0\n"
     ]
    }
   ],
   "source": [
    "base=int(input(\"Enter the base measurement of the triangle: \"))\n",
    "height=int(input(\"Enter the height measurement of the triangle: \"))\n",
    "\n",
    "area=(base*height)/2\n",
    "print(f\"The area of this triangle is :{area}\")"
   ]
  },
  {
   "cell_type": "markdown",
   "id": "b3f70856",
   "metadata": {},
   "source": [
    "4. Write a Python program to swap two variables?"
   ]
  },
  {
   "cell_type": "code",
   "execution_count": 5,
   "id": "592fb508",
   "metadata": {},
   "outputs": [
    {
     "name": "stdout",
     "output_type": "stream",
     "text": [
      "Enter the number 1: 20\n",
      "Enter the number 2: 10\n",
      " the swapped number is num1: 10 and num2: 20.\n"
     ]
    }
   ],
   "source": [
    "num1=int(input(\"Enter the number 1: \"))\n",
    "num2=int(input(\"Enter the number 2: \"))\n",
    "\n",
    "num1, num2= num2, num1\n",
    "\n",
    "print(f\" the swapped number is num1: {num1} and num2: {num2}.\")\n"
   ]
  },
  {
   "cell_type": "markdown",
   "id": "49c3bce7",
   "metadata": {},
   "source": [
    "5. Write a Python program to generate a random number?"
   ]
  },
  {
   "cell_type": "code",
   "execution_count": 15,
   "id": "f4072c89",
   "metadata": {},
   "outputs": [
    {
     "name": "stdout",
     "output_type": "stream",
     "text": [
      "Enter the number 1: 10\n",
      "Enter the number 2: 20\n",
      "13\n"
     ]
    }
   ],
   "source": [
    "import random\n",
    "\n",
    "num1=int(input(\"Enter the number 1: \"))\n",
    "num2=int(input(\"Enter the number 2: \"))\n",
    "\n",
    "if num1 >num2:\n",
    "    print(random.randint(num2,num1))\n",
    "else:\n",
    "    print(random.randint(num1,num2))"
   ]
  },
  {
   "cell_type": "code",
   "execution_count": null,
   "id": "bf321ad9",
   "metadata": {},
   "outputs": [],
   "source": []
  }
 ],
 "metadata": {
  "kernelspec": {
   "display_name": "Python 3 (ipykernel)",
   "language": "python",
   "name": "python3"
  },
  "language_info": {
   "codemirror_mode": {
    "name": "ipython",
    "version": 3
   },
   "file_extension": ".py",
   "mimetype": "text/x-python",
   "name": "python",
   "nbconvert_exporter": "python",
   "pygments_lexer": "ipython3",
   "version": "3.9.7"
  }
 },
 "nbformat": 4,
 "nbformat_minor": 5
}
