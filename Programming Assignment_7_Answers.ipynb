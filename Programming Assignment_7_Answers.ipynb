{
 "cells": [
  {
   "cell_type": "markdown",
   "id": "29c390d1",
   "metadata": {},
   "source": [
    "1. Write a Python Program to find sum of array?"
   ]
  },
  {
   "cell_type": "code",
   "execution_count": 3,
   "id": "4f229312",
   "metadata": {},
   "outputs": [
    {
     "name": "stdout",
     "output_type": "stream",
     "text": [
      "How many numbers you want to add: 5\n",
      "Enter num1: 1020\n",
      "Enter num2: 30\n",
      "Enter num3: 40\n",
      "Enter num4: 50\n",
      "Enter num5: 60\n",
      "1200\n"
     ]
    }
   ],
   "source": [
    "import numpy as np\n",
    "\n",
    "counts=int(input(\"How many numbers you want to add: \"))\n",
    "lst=[]\n",
    "for count in range(counts):\n",
    "    num=int(input(f\"Enter num {count+1}: \"))\n",
    "    lst.append(num)\n",
    "\n",
    "np_lst=np.array(lst)\n",
    "print(np.sum(np_lst))"
   ]
  },
  {
   "cell_type": "markdown",
   "id": "574de252",
   "metadata": {},
   "source": [
    "2. Write a Python Program to find largest element in an array?"
   ]
  },
  {
   "cell_type": "code",
   "execution_count": 4,
   "id": "a9dc577f",
   "metadata": {},
   "outputs": [
    {
     "name": "stdout",
     "output_type": "stream",
     "text": [
      "How many numbers you want to check: 5\n",
      "Enter num 1: 10\n",
      "Enter num 2: 43\n",
      "Enter num 3: 456\n",
      "Enter num 4: 67\n",
      "Enter num 5: 2\n",
      "456\n"
     ]
    }
   ],
   "source": [
    "counts=int(input(\"How many numbers you want to check: \"))\n",
    "lst=[]\n",
    "for count in range(counts):\n",
    "    num=int(input(f\"Enter num {count+1}: \"))\n",
    "    lst.append(num)\n",
    "\n",
    "np_lst=np.array(lst)\n",
    "print(f'{np.max(np_lst)} is the largest number')"
   ]
  },
  {
   "cell_type": "markdown",
   "id": "cf1c3941",
   "metadata": {},
   "source": [
    "3. Write a Python Program for array rotation?"
   ]
  },
  {
   "cell_type": "code",
   "execution_count": 13,
   "id": "e1604c35",
   "metadata": {},
   "outputs": [
    {
     "name": "stdout",
     "output_type": "stream",
     "text": [
      "How many numbers you want to check: 7\n",
      "Enter num 1: 1\n",
      "Enter num 2: 2\n",
      "Enter num 3: 3\n",
      "Enter num 4: 4\n",
      "Enter num 5: 5\n",
      "Enter num 6: 6\n",
      "Enter num 7: 7\n",
      "Which location you want to rotate: 3\n",
      "[4, 5, 6, 7, 1, 2, 3]\n"
     ]
    }
   ],
   "source": [
    "counts=int(input(\"How many numbers you want to add to array: \"))\n",
    "lst=[]\n",
    "for count in range(counts):\n",
    "    num=int(input(f\"Enter num {count+1}: \"))\n",
    "    lst.append(num)\n",
    "location=int(input(\"Which location you want to rotate: \"))\n",
    "lst_rotate=(lst[location:])\n",
    "lst_rotate.extend(lst[:location])\n",
    "print(lst_rotate)"
   ]
  },
  {
   "cell_type": "markdown",
   "id": "fc428eae",
   "metadata": {},
   "source": [
    "4. Write a Python Program to Split the array and add the first part to the end?\n"
   ]
  },
  {
   "cell_type": "code",
   "execution_count": 40,
   "id": "e07f1bc2",
   "metadata": {},
   "outputs": [
    {
     "name": "stdout",
     "output_type": "stream",
     "text": [
      "How many numbers you want to add: 7\n",
      "Enter num 1: 1\n",
      "Enter num 2: 2\n",
      "Enter num 3: 3\n",
      "Enter num 4: 4\n",
      "Enter num 5: 5\n",
      "Enter num 6: 6\n",
      "Enter num 7: 7\n",
      "3\n",
      "list 1= [1, 2, 3]\n",
      "list 2= [4, 5, 6, 7]\n",
      "added list= [5, 7, 9]\n"
     ]
    }
   ],
   "source": [
    "counts=int(input(\"How many numbers you want to add: \"))\n",
    "lst=[]\n",
    "for count in range(counts):\n",
    "    num=int(input(f\"Enter num {count+1}: \"))\n",
    "    lst.append(num)\n",
    "split_at=int(len(lst)/2)\n",
    "lst1=lst[:split_at]\n",
    "lst2=lst[split_at:]\n",
    "final_lst=[lst1[i]+lst2[i] for i in range(split_at)]\n",
    "print(f'list 1= {lst1}')\n",
    "print(f'list 2= {lst2}')\n",
    "\n",
    "print(f'added list= {final_lst}')"
   ]
  },
  {
   "cell_type": "markdown",
   "id": "b9e4fb5b",
   "metadata": {},
   "source": [
    "5. Write a Python Program to check if given array is Monotonic?"
   ]
  },
  {
   "cell_type": "code",
   "execution_count": 33,
   "id": "10282f1d",
   "metadata": {},
   "outputs": [
    {
     "name": "stdout",
     "output_type": "stream",
     "text": [
      "How many numbers you want to add to the list: 5\n",
      "Enter num 1: 23\n",
      "Enter num 2: 53\n",
      "Enter num 3: 56\n",
      "Enter num 4: 8\n",
      "Enter num 5: 12\n",
      "[23, 53, 56, 8, 12] is not Monotonic \n"
     ]
    }
   ],
   "source": [
    "\n",
    "# either soredt in ascending or decending order \n",
    "counts=int(input(\"How many numbers you want to add to the list: \"))\n",
    "lst=[]\n",
    "for count in range(counts):\n",
    "    num=int(input(f\"Enter num {count+1}: \"))\n",
    "    lst.append(num)\n",
    "\n",
    "sorted_list=sorted(lst)\n",
    "\n",
    "reversed_list=sorted_list[::-1]\n",
    "\n",
    "if lst==sorted_list or lst==reversed_list:\n",
    "    print(f\"{lst} is Monotonic \")\n",
    "else:\n",
    "    print(f\"{lst} is not Monotonic \")"
   ]
  },
  {
   "cell_type": "code",
   "execution_count": null,
   "id": "c1337023",
   "metadata": {},
   "outputs": [],
   "source": []
  }
 ],
 "metadata": {
  "kernelspec": {
   "display_name": "Python 3 (ipykernel)",
   "language": "python",
   "name": "python3"
  },
  "language_info": {
   "codemirror_mode": {
    "name": "ipython",
    "version": 3
   },
   "file_extension": ".py",
   "mimetype": "text/x-python",
   "name": "python",
   "nbconvert_exporter": "python",
   "pygments_lexer": "ipython3",
   "version": "3.9.7"
  }
 },
 "nbformat": 4,
 "nbformat_minor": 5
}
