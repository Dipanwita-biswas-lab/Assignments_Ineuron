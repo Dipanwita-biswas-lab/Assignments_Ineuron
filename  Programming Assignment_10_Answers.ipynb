{
 "cells": [
  {
   "cell_type": "code",
   "execution_count": 1,
   "id": "4d672c30",
   "metadata": {},
   "outputs": [],
   "source": [
    "import numpy as np"
   ]
  },
  {
   "cell_type": "code",
   "execution_count": 50,
   "id": "18dfd9e6",
   "metadata": {},
   "outputs": [
    {
     "data": {
      "text/plain": [
       "[11, 16, 62, 63, 67, 59, 81, 43, 51, 12]"
      ]
     },
     "execution_count": 50,
     "metadata": {},
     "output_type": "execute_result"
    }
   ],
   "source": [
    "np_array= np.random.randint(10,100,size=[10])\n",
    "lst=list(np_array)\n",
    "lst"
   ]
  },
  {
   "cell_type": "markdown",
   "id": "066def97",
   "metadata": {},
   "source": [
    "1. Write a Python program to find sum of elements in list?\n"
   ]
  },
  {
   "cell_type": "code",
   "execution_count": 51,
   "id": "ced5a2b1",
   "metadata": {},
   "outputs": [
    {
     "name": "stdout",
     "output_type": "stream",
     "text": [
      "sum of the [11, 16, 62, 63, 67, 59, 81, 43, 51, 12] is 465 \n"
     ]
    }
   ],
   "source": [
    "sum_num=0\n",
    "for i in lst:\n",
    "    sum_num+=i\n",
    "print(f\"sum of the {lst} is {sum_num} \")"
   ]
  },
  {
   "cell_type": "markdown",
   "id": "752228b5",
   "metadata": {},
   "source": [
    "2. Write a Python program to Multiply all numbers in the list?"
   ]
  },
  {
   "cell_type": "code",
   "execution_count": 52,
   "id": "4d0af7b4",
   "metadata": {},
   "outputs": [
    {
     "name": "stdout",
     "output_type": "stream",
     "text": [
      "product of the [11, 16, 62, 63, 67, 59, 81, 43, 51, 12] is 5792641051494528 \n"
     ]
    }
   ],
   "source": [
    "sum_num=1\n",
    "for i in lst:\n",
    "    sum_num*=i\n",
    "print(f\"product of the {lst} is {sum_num} \")"
   ]
  },
  {
   "cell_type": "markdown",
   "id": "f243e39d",
   "metadata": {},
   "source": [
    "3. Write a Python program to find smallest number in a list?"
   ]
  },
  {
   "cell_type": "code",
   "execution_count": 53,
   "id": "7bc8ac09",
   "metadata": {},
   "outputs": [
    {
     "name": "stdout",
     "output_type": "stream",
     "text": [
      "the smallest number in the list is 11\n"
     ]
    }
   ],
   "source": [
    "print(f'the smallest number in the list is {sorted(lst)[0]}')"
   ]
  },
  {
   "cell_type": "markdown",
   "id": "1f3b1da8",
   "metadata": {},
   "source": [
    "4. Write a Python program to find largest number in a list?"
   ]
  },
  {
   "cell_type": "code",
   "execution_count": 54,
   "id": "acd3f807",
   "metadata": {},
   "outputs": [
    {
     "name": "stdout",
     "output_type": "stream",
     "text": [
      "the largest number in the list is 81\n"
     ]
    }
   ],
   "source": [
    "print(f'the largest number in the list is {sorted(lst)[-1]}')"
   ]
  },
  {
   "cell_type": "markdown",
   "id": "4976a5ea",
   "metadata": {},
   "source": [
    "5. Write a Python program to find second largest number in a list?"
   ]
  },
  {
   "cell_type": "code",
   "execution_count": 55,
   "id": "638fbfa2",
   "metadata": {},
   "outputs": [
    {
     "name": "stdout",
     "output_type": "stream",
     "text": [
      "thr 2nd largest number in the list is 67\n"
     ]
    }
   ],
   "source": [
    "\n",
    "print(f'thr 2nd largest number in the list is {sorted(lst)[-2]}')"
   ]
  },
  {
   "cell_type": "markdown",
   "id": "1fd29f0d",
   "metadata": {},
   "source": [
    "6. Write a Python program to find N largest elements from a list?"
   ]
  },
  {
   "cell_type": "code",
   "execution_count": 56,
   "id": "68f5d41a",
   "metadata": {},
   "outputs": [
    {
     "name": "stdout",
     "output_type": "stream",
     "text": [
      "Which largest number you want to print: 3\n",
      "the 2nd largest number in the list is 63\n"
     ]
    }
   ],
   "source": [
    "n= int(input(\"Which largest number you want to print: \"))\n",
    "print(f'the 2nd largest number in the list is {sorted(lst)[-n]}')"
   ]
  },
  {
   "cell_type": "markdown",
   "id": "cf861dfd",
   "metadata": {},
   "source": [
    "7. Write a Python program to print even numbers in a list?"
   ]
  },
  {
   "cell_type": "code",
   "execution_count": 57,
   "id": "ef00b7c9",
   "metadata": {},
   "outputs": [
    {
     "name": "stdout",
     "output_type": "stream",
     "text": [
      "following are the even numbers\n",
      "16\n",
      "62\n",
      "12\n"
     ]
    }
   ],
   "source": [
    "print('following are the even numbers')\n",
    "for i in lst:\n",
    "    if i%2==0:\n",
    "        print(i)"
   ]
  },
  {
   "cell_type": "markdown",
   "id": "17578daa",
   "metadata": {},
   "source": [
    "8. Write a Python program to print odd numbers in a List?"
   ]
  },
  {
   "cell_type": "code",
   "execution_count": 58,
   "id": "bc860124",
   "metadata": {},
   "outputs": [
    {
     "name": "stdout",
     "output_type": "stream",
     "text": [
      "following are the odd numbers\n",
      "11\n",
      "63\n",
      "67\n",
      "59\n",
      "81\n",
      "43\n",
      "51\n"
     ]
    }
   ],
   "source": [
    "print('following are the odd numbers')\n",
    "for i in lst:\n",
    "    if i%2!=0:\n",
    "        print(i)"
   ]
  },
  {
   "cell_type": "markdown",
   "id": "bd570d84",
   "metadata": {},
   "source": [
    "9. Write a Python program to Remove empty List from List?"
   ]
  },
  {
   "cell_type": "code",
   "execution_count": 60,
   "id": "aea6bd59",
   "metadata": {},
   "outputs": [
    {
     "name": "stdout",
     "output_type": "stream",
     "text": [
      "actual list is [11, 16, 62, 63, 67, 59, 81, 43, 51, 12, []]\n",
      "[11, 16, 62, 63, 67, 59, 81, 43, 51, 12] is after removing\n"
     ]
    },
    {
     "name": "stderr",
     "output_type": "stream",
     "text": [
      "/var/folders/7t/fhk5wxmd7rg6t9c41_n0tdgm0000gn/T/ipykernel_65147/819916692.py:4: DeprecationWarning: The truth value of an empty array is ambiguous. Returning False, but in future this will result in an error. Use `array.size > 0` to check that an array is not empty.\n",
      "  if i==[]:\n",
      "/var/folders/7t/fhk5wxmd7rg6t9c41_n0tdgm0000gn/T/ipykernel_65147/819916692.py:5: DeprecationWarning: The truth value of an empty array is ambiguous. Returning False, but in future this will result in an error. Use `array.size > 0` to check that an array is not empty.\n",
      "  lst.remove(i)\n"
     ]
    }
   ],
   "source": [
    "lst.append([])\n",
    "print(f'actual list is {lst}')\n",
    "for i in lst:\n",
    "    if i==[]:\n",
    "        lst.remove(i)\n",
    "print(f'{lst} is after removing')"
   ]
  },
  {
   "cell_type": "markdown",
   "id": "1b2b1040",
   "metadata": {},
   "source": [
    "10. Write a Python program to Cloning or Copying a list?\n"
   ]
  },
  {
   "cell_type": "code",
   "execution_count": 61,
   "id": "401170ba",
   "metadata": {},
   "outputs": [
    {
     "name": "stdout",
     "output_type": "stream",
     "text": [
      "cloned list is [11, 16, 62, 63, 67, 59, 81, 43, 51, 12]\n"
     ]
    }
   ],
   "source": [
    "lst2= lst[:]\n",
    "print(f'cloned list is {lst2}')"
   ]
  },
  {
   "cell_type": "markdown",
   "id": "cc772176",
   "metadata": {},
   "source": [
    "11. Write a Python program to Count occurrences of an element in a list?"
   ]
  },
  {
   "cell_type": "code",
   "execution_count": null,
   "id": "96bbad83",
   "metadata": {},
   "outputs": [],
   "source": [
    "n=int(input(\"Which element you want to count: \"))\n",
    "print(f'There are {lst.count(n)} occurences')"
   ]
  },
  {
   "cell_type": "code",
   "execution_count": null,
   "id": "2419d829",
   "metadata": {},
   "outputs": [],
   "source": []
  }
 ],
 "metadata": {
  "kernelspec": {
   "display_name": "Python 3 (ipykernel)",
   "language": "python",
   "name": "python3"
  },
  "language_info": {
   "codemirror_mode": {
    "name": "ipython",
    "version": 3
   },
   "file_extension": ".py",
   "mimetype": "text/x-python",
   "name": "python",
   "nbconvert_exporter": "python",
   "pygments_lexer": "ipython3",
   "version": "3.9.7"
  }
 },
 "nbformat": 4,
 "nbformat_minor": 5
}
