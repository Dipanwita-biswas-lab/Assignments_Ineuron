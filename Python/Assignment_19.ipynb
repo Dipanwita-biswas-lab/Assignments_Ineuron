{
 "cells": [
  {
   "cell_type": "markdown",
   "id": "8e1d6786",
   "metadata": {},
   "source": [
    "1. Make a class called Thing with no contents and print it. Then, create an object called example from this class and also print it. Are the printed values the same or different?"
   ]
  },
  {
   "cell_type": "code",
   "execution_count": 11,
   "id": "37072799",
   "metadata": {},
   "outputs": [
    {
     "name": "stdout",
     "output_type": "stream",
     "text": [
      "<__main__.thing object at 0x7f7af8ba7fd0>\n",
      "<__main__.thing object at 0x7f7af8ba7e50>\n"
     ]
    }
   ],
   "source": [
    "class thing:\n",
    "    pass\n",
    "\n",
    "print(thing())\n",
    "\n",
    "example=thing()\n",
    "print(example)\n",
    "\n",
    "#  the refernece d is different for both the print statements"
   ]
  },
  {
   "cell_type": "code",
   "execution_count": null,
   "id": "25d44402",
   "metadata": {},
   "outputs": [],
   "source": []
  },
  {
   "cell_type": "markdown",
   "id": "a1ca2a41",
   "metadata": {},
   "source": [
    "2. Create a new class called Thing2 and add the value 'abc' to the letters class attribute. Letters should be printed."
   ]
  },
  {
   "cell_type": "code",
   "execution_count": 6,
   "id": "c045f0f3",
   "metadata": {},
   "outputs": [
    {
     "data": {
      "text/plain": [
       "'abc'"
      ]
     },
     "execution_count": 6,
     "metadata": {},
     "output_type": "execute_result"
    }
   ],
   "source": [
    "class thing2:\n",
    "    letters='abc'\n",
    "    \n",
    "thing2.letters"
   ]
  },
  {
   "cell_type": "code",
   "execution_count": null,
   "id": "c4913301",
   "metadata": {},
   "outputs": [],
   "source": []
  },
  {
   "cell_type": "markdown",
   "id": "31c82558",
   "metadata": {},
   "source": [
    "3. Make yet another class called, of course, Thing3. This time, assign the value 'xyz' to an instance (object) attribute called letters. Print letters. Do you need to make an object from the class to do this?"
   ]
  },
  {
   "cell_type": "code",
   "execution_count": 14,
   "id": "93409a62",
   "metadata": {},
   "outputs": [],
   "source": [
    "class thing3:\n",
    "    def __init__(self,letters):\n",
    "        self.letters=letters\n",
    "    \n",
    "example=thing3('xyz')\n"
   ]
  },
  {
   "cell_type": "code",
   "execution_count": 15,
   "id": "841fbac3",
   "metadata": {},
   "outputs": [
    {
     "data": {
      "text/plain": [
       "'xyz'"
      ]
     },
     "execution_count": 15,
     "metadata": {},
     "output_type": "execute_result"
    }
   ],
   "source": [
    "example.letters\n",
    "#  as it is an instance variable, instance of the objects has to be createdt to display the letters"
   ]
  },
  {
   "cell_type": "markdown",
   "id": "341e35d9",
   "metadata": {},
   "source": [
    "4. Create an Element class with the instance attributes name, symbol, and number. Create a class object with the values 'Hydrogen,' 'H,' and 1."
   ]
  },
  {
   "cell_type": "code",
   "execution_count": 56,
   "id": "a41fff7c",
   "metadata": {},
   "outputs": [],
   "source": [
    "class element:\n",
    "    \n",
    "    def __init__(self, name, symbol, number):\n",
    "        self.name=name\n",
    "        self.symbol=symbol\n",
    "        self.number=number\n",
    "\n",
    "# hydrogen=element('Hydrogen', 'H', 1)"
   ]
  },
  {
   "cell_type": "markdown",
   "id": "54d336f8",
   "metadata": {},
   "source": [
    "5. Make a dictionary with these keys and values: 'name': 'Hydrogen', 'symbol': 'H', 'number': 1. Then, create an object called hydrogen from class Element using this dictionary."
   ]
  },
  {
   "cell_type": "code",
   "execution_count": 57,
   "id": "39b4fbce",
   "metadata": {},
   "outputs": [],
   "source": [
    "hydrogen_dict={'name': 'Hydrogen',\n",
    "               'symbol': 'H',\n",
    "               'number': '1'}\n",
    "hydrogen_di=element(**hydrogen_dict)"
   ]
  },
  {
   "cell_type": "code",
   "execution_count": 58,
   "id": "5768cbbc",
   "metadata": {},
   "outputs": [
    {
     "name": "stdout",
     "output_type": "stream",
     "text": [
      "<__main__.element object at 0x7f7b08514490>\n"
     ]
    }
   ],
   "source": [
    "print(hydrogen_di)"
   ]
  },
  {
   "cell_type": "markdown",
   "id": "31b9c0d6",
   "metadata": {},
   "source": [
    "6. For the Element class, define a method called dump() that prints the values of the object’s attributes (name, symbol, and number). Create the hydrogen object from this new definition and use dump() to print its attributes."
   ]
  },
  {
   "cell_type": "code",
   "execution_count": 60,
   "id": "e3df89b3",
   "metadata": {},
   "outputs": [],
   "source": [
    "class element:\n",
    "    \n",
    "    def __init__(self, name, symbol, number):\n",
    "        self.name=name\n",
    "        self.symbol=symbol\n",
    "        self.number=number\n",
    "        \n",
    "    \n",
    "    def dump(self):\n",
    "        return (f'name= {self.name}, symbol= {self.symbol}, number= {str(self.number)}')\n",
    "# hydrogen=element('Hydrogen', 'H', 1)"
   ]
  },
  {
   "cell_type": "code",
   "execution_count": 61,
   "id": "d4b6dce0",
   "metadata": {},
   "outputs": [],
   "source": [
    "hydrogen_dict={'name': 'Hydrogen',\n",
    "               'symbol': 'H',\n",
    "               'number': '1'}\n",
    "hydrogen=element(**hydrogen_dict)"
   ]
  },
  {
   "cell_type": "code",
   "execution_count": 62,
   "id": "1130718e",
   "metadata": {},
   "outputs": [
    {
     "data": {
      "text/plain": [
       "'name= Hydrogen, symbol= H, number= 1'"
      ]
     },
     "execution_count": 62,
     "metadata": {},
     "output_type": "execute_result"
    }
   ],
   "source": [
    "hydrogen.dump()"
   ]
  },
  {
   "cell_type": "markdown",
   "id": "aa3d212b",
   "metadata": {},
   "source": [
    "7. Call print(hydrogen). In the definition of Element, change the name of method dump to __str__, create a new hydrogen object, and call print(hydrogen) again."
   ]
  },
  {
   "cell_type": "code",
   "execution_count": 63,
   "id": "80bc8e5a",
   "metadata": {},
   "outputs": [
    {
     "name": "stdout",
     "output_type": "stream",
     "text": [
      "<__main__.element object at 0x7f7ad9354b50>\n"
     ]
    }
   ],
   "source": [
    "print(hydrogen)"
   ]
  },
  {
   "cell_type": "code",
   "execution_count": 64,
   "id": "2f5294f1",
   "metadata": {},
   "outputs": [],
   "source": [
    "class element:\n",
    "    \n",
    "    def __init__(self, name, symbol, number):\n",
    "        self.name=name\n",
    "        self.symbol=symbol\n",
    "        self.number=number\n",
    "        \n",
    "    \n",
    "    def __str__(self):\n",
    "        return (f'name= {self.name}, symbol= {self.symbol}, number= {str(self.number)}')\n",
    "# hydrogen=element('Hydrogen', 'H', 1)"
   ]
  },
  {
   "cell_type": "code",
   "execution_count": 65,
   "id": "81346217",
   "metadata": {},
   "outputs": [],
   "source": [
    "hydrogen_dict={'name': 'Hydrogen',\n",
    "               'symbol': 'H',\n",
    "               'number': '1'}\n",
    "hydrogen=element(**hydrogen_dict)"
   ]
  },
  {
   "cell_type": "code",
   "execution_count": 66,
   "id": "17801dcc",
   "metadata": {},
   "outputs": [
    {
     "name": "stdout",
     "output_type": "stream",
     "text": [
      "name= Hydrogen, symbol= H, number= 1\n"
     ]
    }
   ],
   "source": [
    "print(hydrogen)"
   ]
  },
  {
   "cell_type": "markdown",
   "id": "225db5f0",
   "metadata": {},
   "source": [
    "8. Modify Element to make the attributes name, symbol, and number private. Define a getter property for each to return its value."
   ]
  },
  {
   "cell_type": "code",
   "execution_count": 67,
   "id": "7a301725",
   "metadata": {},
   "outputs": [],
   "source": [
    "class element:\n",
    "    \n",
    "    def __init__(self, name, symbol, number):\n",
    "        self.__name=name\n",
    "        self.__symbol=symbol\n",
    "        self.__number=number\n",
    "        \n",
    "    \n",
    "    def __str__(self):\n",
    "        return (f'name= {self.name}, symbol= {self.symbol}, number= {str(self.number)}')\n",
    "# hydrogen=element('Hydrogen', 'H', 1)"
   ]
  },
  {
   "cell_type": "markdown",
   "id": "f1f4b23e",
   "metadata": {},
   "source": [
    "9. Define three classes: Bear, Rabbit, and Octothorpe. For each, define only one method: eats(). This should return 'berries' (Bear), 'clover' (Rabbit), or 'campers' (Octothorpe). Create one object from each and print what it eats."
   ]
  },
  {
   "cell_type": "code",
   "execution_count": 76,
   "id": "d872c8a0",
   "metadata": {},
   "outputs": [],
   "source": [
    "class bear:\n",
    "    def eats(self):\n",
    "        return 'berries'\n",
    "    \n",
    "class rabbit:\n",
    "    def eats(self):\n",
    "        return 'clover'\n",
    "    \n",
    "class octothorpe:\n",
    "    def eats(self):\n",
    "        return 'campers'\n",
    "    "
   ]
  },
  {
   "cell_type": "code",
   "execution_count": 77,
   "id": "5d7c5746",
   "metadata": {},
   "outputs": [
    {
     "data": {
      "text/plain": [
       "'berries'"
      ]
     },
     "execution_count": 77,
     "metadata": {},
     "output_type": "execute_result"
    }
   ],
   "source": [
    "Bear=bear()\n",
    "Bear.eats()"
   ]
  },
  {
   "cell_type": "code",
   "execution_count": 78,
   "id": "483d0341",
   "metadata": {},
   "outputs": [
    {
     "data": {
      "text/plain": [
       "'clover'"
      ]
     },
     "execution_count": 78,
     "metadata": {},
     "output_type": "execute_result"
    }
   ],
   "source": [
    "Rabbit=rabbit()\n",
    "Rabbit.eats()"
   ]
  },
  {
   "cell_type": "code",
   "execution_count": 79,
   "id": "7f78bdb5",
   "metadata": {},
   "outputs": [
    {
     "data": {
      "text/plain": [
       "'campers'"
      ]
     },
     "execution_count": 79,
     "metadata": {},
     "output_type": "execute_result"
    }
   ],
   "source": [
    "Octothorpe=octothorpe()\n",
    "Octothorpe.eats()"
   ]
  },
  {
   "cell_type": "markdown",
   "id": "46cdbbc5",
   "metadata": {},
   "source": [
    "10. Define these classes: Laser, Claw, and SmartPhone. Each has only one method: does(). This returns 'disintegrate' (Laser), 'crush' (Claw), or 'ring' (SmartPhone). \n",
    "Then, define the class Robot that has one instance (object) of each of these. Define a does() method for the Robot that prints what its component objects do."
   ]
  },
  {
   "cell_type": "code",
   "execution_count": 80,
   "id": "9500fc67",
   "metadata": {},
   "outputs": [],
   "source": [
    "class Laser:\n",
    "    def does(self):\n",
    "        return 'disintegrate'\n",
    "    \n",
    "class Claw:\n",
    "    def does(self):\n",
    "        return 'crush'\n",
    "    \n",
    "class SmartPhone:\n",
    "    def does(self):\n",
    "        return 'ring'\n",
    "    "
   ]
  },
  {
   "cell_type": "code",
   "execution_count": 87,
   "id": "0b0f040d",
   "metadata": {},
   "outputs": [],
   "source": [
    "class Robot():\n",
    "    def __init__(self, laser, claw, smartphone):\n",
    "        self.laser=laser\n",
    "        self.claw=claw\n",
    "        self.smartphone=smartphone\n",
    "    \n",
    "    def does(self):\n",
    "        return self.laser.does() + \" \" +self.claw.does() + \" \"+ self.smartphone.does()\n",
    "    "
   ]
  },
  {
   "cell_type": "code",
   "execution_count": 88,
   "id": "97b86ab2",
   "metadata": {},
   "outputs": [],
   "source": [
    "l=Laser()\n",
    "c=Claw()\n",
    "s=SmartPhone()\n",
    "\n",
    "r=Robot(l,c,s)"
   ]
  },
  {
   "cell_type": "code",
   "execution_count": 89,
   "id": "906e7d7b",
   "metadata": {},
   "outputs": [
    {
     "data": {
      "text/plain": [
       "'disintegrate crush ring'"
      ]
     },
     "execution_count": 89,
     "metadata": {},
     "output_type": "execute_result"
    }
   ],
   "source": [
    "r.does()"
   ]
  },
  {
   "cell_type": "code",
   "execution_count": null,
   "id": "87a96d45",
   "metadata": {},
   "outputs": [],
   "source": []
  },
  {
   "cell_type": "code",
   "execution_count": null,
   "id": "6c020972",
   "metadata": {},
   "outputs": [],
   "source": []
  }
 ],
 "metadata": {
  "kernelspec": {
   "display_name": "Python 3 (ipykernel)",
   "language": "python",
   "name": "python3"
  },
  "language_info": {
   "codemirror_mode": {
    "name": "ipython",
    "version": 3
   },
   "file_extension": ".py",
   "mimetype": "text/x-python",
   "name": "python",
   "nbconvert_exporter": "python",
   "pygments_lexer": "ipython3",
   "version": "3.9.12"
  }
 },
 "nbformat": 4,
 "nbformat_minor": 5
}
