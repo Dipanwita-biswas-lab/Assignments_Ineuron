{
 "cells": [
  {
   "cell_type": "markdown",
   "id": "57f50494",
   "metadata": {},
   "source": [
    "1. Add the current date to the text file today.txt as a string."
   ]
  },
  {
   "cell_type": "code",
   "execution_count": 7,
   "id": "31369ae5",
   "metadata": {},
   "outputs": [],
   "source": [
    " import datetime\n"
   ]
  },
  {
   "cell_type": "code",
   "execution_count": 9,
   "id": "1665077d",
   "metadata": {},
   "outputs": [],
   "source": [
    "current_date=datetime.date.today()\n",
    "f=open(f'today.txt','w')\n",
    "f.write(str(current_date))\n",
    "f.close()"
   ]
  },
  {
   "cell_type": "markdown",
   "id": "7d540906",
   "metadata": {},
   "source": [
    "2. Read the text file today.txt into the string today_string"
   ]
  },
  {
   "cell_type": "code",
   "execution_count": 39,
   "id": "ba2140cb",
   "metadata": {},
   "outputs": [
    {
     "name": "stdout",
     "output_type": "stream",
     "text": [
      "2022-05-13\n"
     ]
    }
   ],
   "source": [
    "with open('today.txt') as f:\n",
    "    today_string=f.read()\n",
    "print(today_string)"
   ]
  },
  {
   "cell_type": "markdown",
   "id": "59716b43",
   "metadata": {},
   "source": [
    "3. Parse the date from today_string."
   ]
  },
  {
   "cell_type": "code",
   "execution_count": 40,
   "id": "bbfe4fa6",
   "metadata": {},
   "outputs": [
    {
     "data": {
      "text/plain": [
       "datetime.datetime(2022, 5, 13, 0, 0)"
      ]
     },
     "execution_count": 40,
     "metadata": {},
     "output_type": "execute_result"
    }
   ],
   "source": [
    "datetime.datetime.strptime(today_string, '%Y-%m-%d')"
   ]
  },
  {
   "cell_type": "markdown",
   "id": "ce5b7fcc",
   "metadata": {},
   "source": [
    "4. List the files in your current directory"
   ]
  },
  {
   "cell_type": "code",
   "execution_count": 41,
   "id": "bb7e04a2",
   "metadata": {},
   "outputs": [],
   "source": [
    "import os"
   ]
  },
  {
   "cell_type": "code",
   "execution_count": 42,
   "id": "24c6b795",
   "metadata": {},
   "outputs": [
    {
     "data": {
      "text/plain": [
       "['Assignment_24.docx',\n",
       " 'Assignment_9.docx',\n",
       " 'Assignment_12.docx',\n",
       " 'Assignment_13.docx',\n",
       " 'Assignment_8.docx',\n",
       " '.DS_Store',\n",
       " 'Assignment_17.ipynb',\n",
       " 'Assignment_25.docx',\n",
       " 'Untitled.ipynb',\n",
       " '~$signment_21.docx',\n",
       " 'today.txt',\n",
       " 'Assignment_14.docx',\n",
       " 'Assignment_22.docx',\n",
       " 'Assignment_3.docx',\n",
       " 'Assignment_19.docx',\n",
       " 'Assignment_15.docx',\n",
       " '~$signment_20.docx',\n",
       " 'Assignment_18.ipynb',\n",
       " 'Assignment_20.docx',\n",
       " 'Assignment_21.docx',\n",
       " '~$signment_2_Answers.docx',\n",
       " '~$signment_22.docx',\n",
       " 'Assignment_21.ipynb',\n",
       " '.ipynb_checkpoints',\n",
       " 'Assignment_7.docx',\n",
       " 'Assignment_10.docx',\n",
       " 'Assignment_11.docx',\n",
       " 'Assignment_20.ipynb']"
      ]
     },
     "execution_count": 42,
     "metadata": {},
     "output_type": "execute_result"
    }
   ],
   "source": [
    "os.listdir()"
   ]
  },
  {
   "cell_type": "markdown",
   "id": "0ef30ba1",
   "metadata": {},
   "source": [
    "5. Create a list of all of the files in your parent directory (minimum five files should be available)."
   ]
  },
  {
   "cell_type": "code",
   "execution_count": 58,
   "id": "695c2bc4",
   "metadata": {},
   "outputs": [
    {
     "data": {
      "text/plain": [
       "'/Users/dipanwitabiswas/Desktop'"
      ]
     },
     "execution_count": 58,
     "metadata": {},
     "output_type": "execute_result"
    }
   ],
   "source": [
    "parent=os.path.dirname(os.getcwd())\n",
    "#  get the parent directory\n",
    "os.chdir(parent)\n",
    "#  change to the parent dicrtory"
   ]
  },
  {
   "cell_type": "code",
   "execution_count": 60,
   "id": "4e3fc705",
   "metadata": {},
   "outputs": [],
   "source": [
    "lst=os.listdir()\n"
   ]
  },
  {
   "cell_type": "code",
   "execution_count": 62,
   "id": "001d8eed",
   "metadata": {},
   "outputs": [
    {
     "data": {
      "text/plain": [
       "list"
      ]
     },
     "execution_count": 62,
     "metadata": {},
     "output_type": "execute_result"
    }
   ],
   "source": [
    "type(lst)"
   ]
  },
  {
   "cell_type": "markdown",
   "id": "621ee8cd",
   "metadata": {},
   "source": [
    "6. Use multiprocessing to create three separate processes. Make each one wait a random number of seconds between one and five, print the current time, and then exit."
   ]
  },
  {
   "cell_type": "code",
   "execution_count": 26,
   "id": "2fe8241e",
   "metadata": {},
   "outputs": [],
   "source": [
    "import multiprocessing\n",
    "import time "
   ]
  },
  {
   "cell_type": "code",
   "execution_count": 30,
   "id": "2617d189",
   "metadata": {},
   "outputs": [
    {
     "name": "stdout",
     "output_type": "stream",
     "text": [
      "starttime time is  2022-05-22 00:58:24.863772\n",
      "process 1 starts at 2022-05-22 00:58:30.878515\n",
      "process 2 starts at 2022-05-22 00:58:30.911097\n",
      "process 3 starts at 2022-05-22 00:58:30.926462\n",
      "final time is  2022-05-22 00:58:30.937763\n"
     ]
    }
   ],
   "source": [
    "print(f'starttime time is  {datetime.datetime.now()}')\n",
    "\n",
    "pro1=multiprocessing.Process(target=time.sleep(1))\n",
    "pro2=multiprocessing.Process(target=time.sleep(2))\n",
    "pro3=multiprocessing.Process(target=time.sleep(3))\n",
    "\n",
    "\n",
    "print(f'process 1 starts at {datetime.datetime.now()}')\n",
    "pro1.start()\n",
    "print(f'process 2 starts at {datetime.datetime.now()}')\n",
    "pro2.start()\n",
    "print(f'process 3 starts at {datetime.datetime.now()}')\n",
    "pro3.start()\n",
    "\n",
    "print(f'final time is  {datetime.datetime.now()}')\n",
    "\n",
    "pro1.terminate()\n",
    "\n",
    "pro2.terminate()\n",
    "\n",
    "pro3.terminate()\n"
   ]
  },
  {
   "cell_type": "code",
   "execution_count": null,
   "id": "d40d70bb",
   "metadata": {},
   "outputs": [],
   "source": [
    "start = time.time()\n",
    "process1 = zoo.process1()\n",
    "process2 = zoo.process1()\n",
    "process3 = zoo.process1()\n",
    "\n",
    "print(datetime.datetime.now())\n",
    "if __name__==\"__main__\":\n",
    "\n",
    "\n",
    "\n",
    "    p1 = multiprocessing.Process(target=process1)\n",
    "    p2 = multiprocessing.Process(target=process2)\n",
    "    p3 = multiprocessing.Process(target=process3)\n",
    "\n",
    "    p1.start()\n",
    "    p2.start()\n",
    "    p3.start()\n",
    "\n",
    "    p1.join()\n",
    "    p2.join()\n",
    "    p3.join()\n",
    "\n",
    "end = time.time()\n",
    "\n",
    "\n",
    "print(\"It takes \" +str(end-start)+\" seconds\")"
   ]
  },
  {
   "cell_type": "markdown",
   "id": "443c7ed7",
   "metadata": {},
   "source": [
    "7. Create a date object of your day of birth."
   ]
  },
  {
   "cell_type": "code",
   "execution_count": 70,
   "id": "9da91637",
   "metadata": {},
   "outputs": [],
   "source": [
    "birthdate=datetime.date(1988, 10,28)"
   ]
  },
  {
   "cell_type": "markdown",
   "id": "feca727c",
   "metadata": {},
   "source": [
    "8. What day of the week was your day of birth?"
   ]
  },
  {
   "cell_type": "code",
   "execution_count": 73,
   "id": "85e2c40d",
   "metadata": {},
   "outputs": [
    {
     "data": {
      "text/plain": [
       "'Friday'"
      ]
     },
     "execution_count": 73,
     "metadata": {},
     "output_type": "execute_result"
    }
   ],
   "source": [
    "birthdate.strftime('%A')"
   ]
  },
  {
   "cell_type": "markdown",
   "id": "f8c04c5d",
   "metadata": {},
   "source": [
    "9. When will you be (or when were you) 10,000 days old?"
   ]
  },
  {
   "cell_type": "code",
   "execution_count": 2,
   "id": "cdb3ca52",
   "metadata": {},
   "outputs": [
    {
     "ename": "NameError",
     "evalue": "name 'birthdate' is not defined",
     "output_type": "error",
     "traceback": [
      "\u001b[0;31m---------------------------------------------------------------------------\u001b[0m",
      "\u001b[0;31mNameError\u001b[0m                                 Traceback (most recent call last)",
      "Input \u001b[0;32mIn [2]\u001b[0m, in \u001b[0;36m<cell line: 1>\u001b[0;34m()\u001b[0m\n\u001b[0;32m----> 1\u001b[0m \u001b[38;5;28mprint\u001b[39m(\u001b[43mbirthdate\u001b[49m\u001b[38;5;241m+\u001b[39mdatetime\u001b[38;5;241m.\u001b[39mtimedelta(days\u001b[38;5;241m=\u001b[39m\u001b[38;5;241m20000\u001b[39m))\n",
      "\u001b[0;31mNameError\u001b[0m: name 'birthdate' is not defined"
     ]
    }
   ],
   "source": [
    "print(birthdate+datetime.timedelta(days=10000))"
   ]
  },
  {
   "cell_type": "code",
   "execution_count": null,
   "id": "1398f57a",
   "metadata": {},
   "outputs": [],
   "source": []
  }
 ],
 "metadata": {
  "kernelspec": {
   "display_name": "Python 3 (ipykernel)",
   "language": "python",
   "name": "python3"
  },
  "language_info": {
   "codemirror_mode": {
    "name": "ipython",
    "version": 3
   },
   "file_extension": ".py",
   "mimetype": "text/x-python",
   "name": "python",
   "nbconvert_exporter": "python",
   "pygments_lexer": "ipython3",
   "version": "3.9.12"
  }
 },
 "nbformat": 4,
 "nbformat_minor": 5
}
