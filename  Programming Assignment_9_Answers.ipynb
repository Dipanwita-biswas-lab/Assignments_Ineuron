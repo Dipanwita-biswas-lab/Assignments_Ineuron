{
 "cells": [
  {
   "cell_type": "code",
   "execution_count": null,
   "id": "8cfddc73",
   "metadata": {},
   "outputs": [],
   "source": []
  },
  {
   "cell_type": "markdown",
   "id": "0105775c",
   "metadata": {},
   "source": [
    "1. Write a Python program to check if the given number is a Disarium Number?"
   ]
  },
  {
   "cell_type": "code",
   "execution_count": 6,
   "id": "3a4b98a8",
   "metadata": {},
   "outputs": [
    {
     "name": "stdout",
     "output_type": "stream",
     "text": [
      "Enter a number to check: 135\n",
      "1 1\n",
      "3 2\n",
      "5 3\n",
      "135 is a Disarium number\n"
     ]
    }
   ],
   "source": [
    "# 153== 1**1 +5**2 + 3**3\n",
    "\n",
    "number= int(input(\"Enter a number to check: \"))\n",
    "\n",
    "str_number = str(number)\n",
    "\n",
    "disarium=0\n",
    "for i in range(len(str_number)):\n",
    "    disarium += (int(str_number[i]))**(i+1)\n",
    "    \n",
    "if disarium== number:\n",
    "    print(f'{str_number} is a Disarium number')\n",
    "else: \n",
    "    print(f'{str_number} is not a Disarium number')"
   ]
  },
  {
   "cell_type": "markdown",
   "id": "f32a7861",
   "metadata": {},
   "source": [
    "2. Write a Python program to print all disarium numbers between 1 to 100?"
   ]
  },
  {
   "cell_type": "code",
   "execution_count": 11,
   "id": "cad74dc3",
   "metadata": {},
   "outputs": [
    {
     "name": "stdout",
     "output_type": "stream",
     "text": [
      "Following are the disarium numbers:  \n",
      "1\n",
      "2\n",
      "3\n",
      "4\n",
      "5\n",
      "6\n",
      "7\n",
      "8\n",
      "9\n",
      "89\n"
     ]
    }
   ],
   "source": [
    "print('Following are the disarium numbers:  ')\n",
    "for i in range(1,101):\n",
    "\n",
    "    str_i = str(i)\n",
    "\n",
    "    disarium=0\n",
    "    for num in range(len(str_i)):\n",
    "        disarium += (int(str_i[num]))**(num+1)\n",
    "\n",
    "    if disarium== i:\n",
    "        print(f'{str_i}')"
   ]
  },
  {
   "cell_type": "markdown",
   "id": "2356c5f0",
   "metadata": {},
   "source": [
    "3. Write a Python program to check if the given number is Happy Number?"
   ]
  },
  {
   "cell_type": "code",
   "execution_count": 22,
   "id": "73b2d26f",
   "metadata": {},
   "outputs": [
    {
     "name": "stdout",
     "output_type": "stream",
     "text": [
      "Enter a number to check: 4\n",
      "4 is not happy number\n"
     ]
    }
   ],
   "source": [
    "number= int(input(\"Enter a number to check: \"))\n",
    "\n",
    "def happy_number(num):\n",
    "    str_num=str(num)\n",
    "    sum_num=0\n",
    "    for i in str_num:\n",
    "        sum_num+=int(i)**2\n",
    "\n",
    "    if sum_num==1:\n",
    "        print(f\"{number} is a happy number\")\n",
    "    elif sum_num== number:\n",
    "        print(f\"{number} is not happy number\")\n",
    "    else:\n",
    "        happy_number(sum_num)\n",
    "        \n",
    "happy_number(number)"
   ]
  },
  {
   "cell_type": "markdown",
   "id": "2c972d06",
   "metadata": {},
   "source": [
    "4. Write a Python program to print all happy numbers between 1 and 100?"
   ]
  },
  {
   "cell_type": "code",
   "execution_count": 64,
   "id": "53a07488",
   "metadata": {},
   "outputs": [
    {
     "name": "stdout",
     "output_type": "stream",
     "text": [
      "Following are the happy numbers:  \n",
      "1\n",
      "7\n",
      "10\n",
      "13\n",
      "19\n",
      "23\n",
      "28\n",
      "31\n",
      "32\n",
      "44\n",
      "49\n",
      "68\n",
      "70\n",
      "79\n",
      "82\n",
      "86\n",
      "91\n",
      "94\n",
      "97\n",
      "100\n"
     ]
    }
   ],
   "source": [
    "lst=[]\n",
    "print('Following are the happy numbers:  ')\n",
    "def happy_number_1_100(num):\n",
    "    str_num=str(num)\n",
    "    sum_num=0\n",
    "\n",
    "    for i in str_num:\n",
    "        sum_num+=int(i)**2\n",
    "    if sum_num==1:\n",
    "        print(f\"{number}\")\n",
    "        lst.clear()\n",
    "    elif sum_num in lst:\n",
    "        pass\n",
    "    else:\n",
    "        lst.append(sum_num)\n",
    "        happy_number_1_100(sum_num)\n",
    "        \n",
    "\n",
    "for i in range(1,101):\n",
    "    number=int(i)\n",
    "    happy_number_1_100(i)"
   ]
  },
  {
   "cell_type": "markdown",
   "id": "9e5cb4d4",
   "metadata": {},
   "source": [
    "5. Write a Python program to determine whether the given number is a Harshad Number?"
   ]
  },
  {
   "cell_type": "code",
   "execution_count": 81,
   "id": "8d4529ce",
   "metadata": {},
   "outputs": [
    {
     "name": "stdout",
     "output_type": "stream",
     "text": [
      "Enter a number to check: 409\n",
      "409 is not a Harshad number\n"
     ]
    }
   ],
   "source": [
    "number= int(input(\"Enter a number to check: \"))\n",
    "\n",
    "str_num=str(number)\n",
    "digit_sum=0\n",
    "for i in range(len(str_num)):\n",
    "    digit_sum+=int(str_num[i])\n",
    "\n",
    "if (number%int(digit_sum))==0:\n",
    "    print(f'{str_num} is a Harshad number')\n",
    "else:\n",
    "     print(f'{str_num} is not a Harshad number')"
   ]
  },
  {
   "cell_type": "markdown",
   "id": "d8d36014",
   "metadata": {},
   "source": [
    "\n",
    "6. Write a Python program to print all pronic numbers between 1 and 100?"
   ]
  },
  {
   "cell_type": "code",
   "execution_count": 92,
   "id": "cf89169a",
   "metadata": {},
   "outputs": [
    {
     "name": "stdout",
     "output_type": "stream",
     "text": [
      "0\n",
      "2\n",
      "6\n",
      "12\n",
      "20\n",
      "30\n",
      "42\n",
      "56\n",
      "72\n",
      "90\n"
     ]
    }
   ],
   "source": [
    "i=1\n",
    "while (i*(i-1))<100:\n",
    "        print(i*(i-1))\n",
    "        i+=1"
   ]
  },
  {
   "cell_type": "code",
   "execution_count": null,
   "id": "64047240",
   "metadata": {},
   "outputs": [],
   "source": []
  }
 ],
 "metadata": {
  "kernelspec": {
   "display_name": "Python 3 (ipykernel)",
   "language": "python",
   "name": "python3"
  },
  "language_info": {
   "codemirror_mode": {
    "name": "ipython",
    "version": 3
   },
   "file_extension": ".py",
   "mimetype": "text/x-python",
   "name": "python",
   "nbconvert_exporter": "python",
   "pygments_lexer": "ipython3",
   "version": "3.9.7"
  }
 },
 "nbformat": 4,
 "nbformat_minor": 5
}
