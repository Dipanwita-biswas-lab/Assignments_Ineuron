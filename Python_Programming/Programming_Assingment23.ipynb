{
 "cells": [
  {
   "cell_type": "markdown",
   "id": "9bcd6fc7",
   "metadata": {},
   "source": [
    "1: Create a function that takes a number as an argument and returns True or False depending on whether the number is symmetrical or not. A number is symmetrical when it is the same as its reverse."
   ]
  },
  {
   "cell_type": "code",
   "execution_count": 1,
   "id": "9083ae2b",
   "metadata": {
    "scrolled": true
   },
   "outputs": [],
   "source": [
    "def is_symmetrical(num):\n",
    "    rev=int((str(num))[::-1])\n",
    "    return num==rev"
   ]
  },
  {
   "cell_type": "code",
   "execution_count": 2,
   "id": "ec61a909",
   "metadata": {
    "scrolled": true
   },
   "outputs": [
    {
     "data": {
      "text/plain": [
       "True"
      ]
     },
     "execution_count": 2,
     "metadata": {},
     "output_type": "execute_result"
    }
   ],
   "source": [
    "is_symmetrical(1112111) "
   ]
  },
  {
   "cell_type": "code",
   "execution_count": 3,
   "id": "90267ac4",
   "metadata": {
    "scrolled": true
   },
   "outputs": [
    {
     "data": {
      "text/plain": [
       "False"
      ]
     },
     "execution_count": 3,
     "metadata": {},
     "output_type": "execute_result"
    }
   ],
   "source": [
    "is_symmetrical(9939)"
   ]
  },
  {
   "cell_type": "code",
   "execution_count": 4,
   "id": "b6819b23",
   "metadata": {
    "scrolled": true
   },
   "outputs": [
    {
     "data": {
      "text/plain": [
       "True"
      ]
     },
     "execution_count": 4,
     "metadata": {},
     "output_type": "execute_result"
    }
   ],
   "source": [
    "is_symmetrical(44444444)"
   ]
  },
  {
   "cell_type": "code",
   "execution_count": 5,
   "id": "04f57f43",
   "metadata": {
    "scrolled": true
   },
   "outputs": [
    {
     "data": {
      "text/plain": [
       "False"
      ]
     },
     "execution_count": 5,
     "metadata": {},
     "output_type": "execute_result"
    }
   ],
   "source": [
    "is_symmetrical(12567)"
   ]
  },
  {
   "cell_type": "code",
   "execution_count": 6,
   "id": "17454ba1",
   "metadata": {
    "scrolled": true
   },
   "outputs": [
    {
     "data": {
      "text/plain": [
       "True"
      ]
     },
     "execution_count": 6,
     "metadata": {},
     "output_type": "execute_result"
    }
   ],
   "source": [
    "is_symmetrical(7227)"
   ]
  },
  {
   "cell_type": "markdown",
   "id": "c33f50fd",
   "metadata": {},
   "source": [
    "2: Given a string of numbers separated by a comma and space, return the product of the numbers."
   ]
  },
  {
   "cell_type": "code",
   "execution_count": 7,
   "id": "eb881586",
   "metadata": {},
   "outputs": [],
   "source": [
    "import functools"
   ]
  },
  {
   "cell_type": "code",
   "execution_count": 8,
   "id": "82c5967c",
   "metadata": {},
   "outputs": [],
   "source": [
    "def multiply_nums(strings):\n",
    "    return functools.reduce(lambda a,b: a*b, [int(i) for i in strings.split(', ')])\n"
   ]
  },
  {
   "cell_type": "code",
   "execution_count": 9,
   "id": "8d430276",
   "metadata": {},
   "outputs": [
    {
     "data": {
      "text/plain": [
       "-20"
      ]
     },
     "execution_count": 9,
     "metadata": {},
     "output_type": "execute_result"
    }
   ],
   "source": [
    "multiply_nums(\"10, -2\")"
   ]
  },
  {
   "cell_type": "code",
   "execution_count": 10,
   "id": "10219985",
   "metadata": {},
   "outputs": [
    {
     "data": {
      "text/plain": [
       "0"
      ]
     },
     "execution_count": 10,
     "metadata": {},
     "output_type": "execute_result"
    }
   ],
   "source": [
    "multiply_nums(\"54, 75, 453, 0\") "
   ]
  },
  {
   "cell_type": "code",
   "execution_count": 11,
   "id": "973d7004",
   "metadata": {},
   "outputs": [
    {
     "data": {
      "text/plain": [
       "24"
      ]
     },
     "execution_count": 11,
     "metadata": {},
     "output_type": "execute_result"
    }
   ],
   "source": [
    "multiply_nums(\"1, 2, 3, 4\")"
   ]
  },
  {
   "cell_type": "code",
   "execution_count": 12,
   "id": "24109dea",
   "metadata": {},
   "outputs": [
    {
     "data": {
      "text/plain": [
       "6"
      ]
     },
     "execution_count": 12,
     "metadata": {},
     "output_type": "execute_result"
    }
   ],
   "source": [
    "multiply_nums(\"2, 3\")"
   ]
  },
  {
   "cell_type": "markdown",
   "id": "b7d3b11c",
   "metadata": {},
   "source": [
    "3: Create a function that squares every digit of a number."
   ]
  },
  {
   "cell_type": "code",
   "execution_count": 42,
   "id": "3147f6dd",
   "metadata": {},
   "outputs": [],
   "source": [
    "def square_digits(num):\n",
    "    lst=[str(int(i)**2) for i in str(num)]\n",
    "    return int(''.join(lst))"
   ]
  },
  {
   "cell_type": "code",
   "execution_count": 44,
   "id": "15a97b66",
   "metadata": {},
   "outputs": [
    {
     "data": {
      "text/plain": [
       "811181"
      ]
     },
     "execution_count": 44,
     "metadata": {},
     "output_type": "execute_result"
    }
   ],
   "source": [
    "square_digits(9119)"
   ]
  },
  {
   "cell_type": "code",
   "execution_count": 45,
   "id": "20d797f4",
   "metadata": {},
   "outputs": [
    {
     "data": {
      "text/plain": [
       "416649"
      ]
     },
     "execution_count": 45,
     "metadata": {},
     "output_type": "execute_result"
    }
   ],
   "source": [
    "square_digits(2483)"
   ]
  },
  {
   "cell_type": "code",
   "execution_count": 46,
   "id": "08edbd82",
   "metadata": {},
   "outputs": [
    {
     "data": {
      "text/plain": [
       "9414"
      ]
     },
     "execution_count": 46,
     "metadata": {},
     "output_type": "execute_result"
    }
   ],
   "source": [
    "square_digits(3212)"
   ]
  },
  {
   "cell_type": "markdown",
   "id": "5b7d8c4b",
   "metadata": {},
   "source": [
    "4: Create a function that sorts a list and removes all duplicate items from it."
   ]
  },
  {
   "cell_type": "code",
   "execution_count": 53,
   "id": "62b0d196",
   "metadata": {},
   "outputs": [],
   "source": [
    "def setify(lst):\n",
    "    return sorted(list(set(lst)))"
   ]
  },
  {
   "cell_type": "code",
   "execution_count": 54,
   "id": "a5575eec",
   "metadata": {},
   "outputs": [
    {
     "data": {
      "text/plain": [
       "[1, 3, 5]"
      ]
     },
     "execution_count": 54,
     "metadata": {},
     "output_type": "execute_result"
    }
   ],
   "source": [
    "setify([1, 3, 3, 5, 5])"
   ]
  },
  {
   "cell_type": "code",
   "execution_count": 55,
   "id": "a6180ef2",
   "metadata": {},
   "outputs": [
    {
     "data": {
      "text/plain": [
       "[4]"
      ]
     },
     "execution_count": 55,
     "metadata": {},
     "output_type": "execute_result"
    }
   ],
   "source": [
    "setify([4, 4, 4, 4])"
   ]
  },
  {
   "cell_type": "code",
   "execution_count": 56,
   "id": "299404d7",
   "metadata": {},
   "outputs": [
    {
     "data": {
      "text/plain": [
       "[5, 7, 8, 9, 10, 15]"
      ]
     },
     "execution_count": 56,
     "metadata": {},
     "output_type": "execute_result"
    }
   ],
   "source": [
    "setify([5, 7, 8, 9, 10, 15])"
   ]
  },
  {
   "cell_type": "code",
   "execution_count": 57,
   "id": "04273a00",
   "metadata": {},
   "outputs": [
    {
     "data": {
      "text/plain": [
       "[1, 2, 3]"
      ]
     },
     "execution_count": 57,
     "metadata": {},
     "output_type": "execute_result"
    }
   ],
   "source": [
    "setify([3, 3, 3, 2, 1])"
   ]
  },
  {
   "cell_type": "code",
   "execution_count": null,
   "id": "be7d1e73",
   "metadata": {},
   "outputs": [],
   "source": []
  },
  {
   "cell_type": "markdown",
   "id": "6e3a2740",
   "metadata": {},
   "source": [
    "5: Create a function that returns the mean of all digits.\n",
    "\n",
    "Notes\n",
    "• The mean of all digits is the sum of digits / how many digits there are (e.g. mean of digits in 512 is (5+1+2)/3(number of digits) = 8/3=2).\n",
    "• The mean will always be an integer."
   ]
  },
  {
   "cell_type": "code",
   "execution_count": 67,
   "id": "3a5d92f5",
   "metadata": {},
   "outputs": [],
   "source": [
    "def mean(num):\n",
    "    str_num=str(num)\n",
    "    return (functools.reduce(lambda a,b: a+b, [int(i) for i in str_num]))//len(str_num)\n"
   ]
  },
  {
   "cell_type": "code",
   "execution_count": 68,
   "id": "35a14891",
   "metadata": {},
   "outputs": [
    {
     "data": {
      "text/plain": [
       "3"
      ]
     },
     "execution_count": 68,
     "metadata": {},
     "output_type": "execute_result"
    }
   ],
   "source": [
    "mean(42)"
   ]
  },
  {
   "cell_type": "code",
   "execution_count": 69,
   "id": "5991354b",
   "metadata": {},
   "outputs": [
    {
     "data": {
      "text/plain": [
       "3"
      ]
     },
     "execution_count": 69,
     "metadata": {},
     "output_type": "execute_result"
    }
   ],
   "source": [
    "mean(12345)"
   ]
  },
  {
   "cell_type": "code",
   "execution_count": 70,
   "id": "8dd64c9f",
   "metadata": {},
   "outputs": [
    {
     "data": {
      "text/plain": [
       "6"
      ]
     },
     "execution_count": 70,
     "metadata": {},
     "output_type": "execute_result"
    }
   ],
   "source": [
    "mean(666)"
   ]
  },
  {
   "cell_type": "code",
   "execution_count": null,
   "id": "dd62cf75",
   "metadata": {},
   "outputs": [],
   "source": []
  },
  {
   "cell_type": "code",
   "execution_count": null,
   "id": "348acf6c",
   "metadata": {},
   "outputs": [],
   "source": []
  }
 ],
 "metadata": {
  "kernelspec": {
   "display_name": "Python 3 (ipykernel)",
   "language": "python",
   "name": "python3"
  },
  "language_info": {
   "codemirror_mode": {
    "name": "ipython",
    "version": 3
   },
   "file_extension": ".py",
   "mimetype": "text/x-python",
   "name": "python",
   "nbconvert_exporter": "python",
   "pygments_lexer": "ipython3",
   "version": "3.9.12"
  }
 },
 "nbformat": 4,
 "nbformat_minor": 5
}
