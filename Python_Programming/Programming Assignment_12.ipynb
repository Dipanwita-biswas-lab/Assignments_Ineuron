{
 "cells": [
  {
   "cell_type": "markdown",
   "id": "3b42399d",
   "metadata": {},
   "source": [
    "1. Write a Python program to Extract Unique values dictionary values?"
   ]
  },
  {
   "cell_type": "code",
   "execution_count": 80,
   "id": "fae5827c",
   "metadata": {},
   "outputs": [],
   "source": [
    "\n",
    "d={'New': 1, 'to': 1, 'Python': 5, 'or': 2, 'choosing': 1, 'between': 1, '2': 2, 'and': 1, '3?': 1, 'Read': 1, '3.': 1}"
   ]
  },
  {
   "cell_type": "code",
   "execution_count": 81,
   "id": "ec4be348",
   "metadata": {},
   "outputs": [
    {
     "name": "stdout",
     "output_type": "stream",
     "text": [
      "Actual valus in the dictionary : dict_values([1, 1, 5, 2, 1, 1, 2, 1, 1, 1, 1])\n",
      "unique set is :{1, 2, 5}\n"
     ]
    }
   ],
   "source": [
    "print(f'Actual valus in the dictionary : {d.values()}')\n",
    "print(f'unique set is :{set(d.values())}')"
   ]
  },
  {
   "cell_type": "markdown",
   "id": "f9202969",
   "metadata": {},
   "source": [
    "2. Write a Python program to find the sum of all items in a dictionary?"
   ]
  },
  {
   "cell_type": "code",
   "execution_count": 82,
   "id": "d097b42b",
   "metadata": {
    "scrolled": true
   },
   "outputs": [
    {
     "data": {
      "text/plain": [
       "17"
      ]
     },
     "execution_count": 82,
     "metadata": {},
     "output_type": "execute_result"
    }
   ],
   "source": [
    "sum([i for i in d.values()])"
   ]
  },
  {
   "cell_type": "markdown",
   "id": "63dd80c2",
   "metadata": {},
   "source": [
    "3. Write a Python program to Merging two Dictionaries?"
   ]
  },
  {
   "cell_type": "code",
   "execution_count": 83,
   "id": "21b497a9",
   "metadata": {},
   "outputs": [],
   "source": [
    "d2={'a': 100, 'b':200, 'c':300}"
   ]
  },
  {
   "cell_type": "code",
   "execution_count": 84,
   "id": "5dc7b72c",
   "metadata": {},
   "outputs": [
    {
     "data": {
      "text/plain": [
       "{'New': 1,\n",
       " 'to': 1,\n",
       " 'Python': 5,\n",
       " 'or': 2,\n",
       " 'choosing': 1,\n",
       " 'between': 1,\n",
       " '2': 2,\n",
       " 'and': 1,\n",
       " '3?': 1,\n",
       " 'Read': 1,\n",
       " '3.': 1,\n",
       " 'a': 100,\n",
       " 'b': 200,\n",
       " 'c': 300}"
      ]
     },
     "execution_count": 84,
     "metadata": {},
     "output_type": "execute_result"
    }
   ],
   "source": [
    "merged_d=d|d2\n",
    "merged_d"
   ]
  },
  {
   "cell_type": "markdown",
   "id": "f0a8a999",
   "metadata": {},
   "source": [
    "4. Write a Python program to convert key-values list to flat dictionary?"
   ]
  },
  {
   "cell_type": "code",
   "execution_count": 85,
   "id": "1cd8f7ea",
   "metadata": {},
   "outputs": [
    {
     "data": {
      "text/plain": [
       "['New_1',\n",
       " 'to_1',\n",
       " 'Python_5',\n",
       " 'or_2',\n",
       " 'choosing_1',\n",
       " 'between_1',\n",
       " '2_2',\n",
       " 'and_1',\n",
       " '3?_1',\n",
       " 'Read_1',\n",
       " '3._1']"
      ]
     },
     "execution_count": 85,
     "metadata": {},
     "output_type": "execute_result"
    }
   ],
   "source": [
    "[key+\"_\"+str(value) for key, value in d.items()]"
   ]
  },
  {
   "cell_type": "markdown",
   "id": "694c20b0",
   "metadata": {},
   "source": [
    "5. Write a Python program to insertion at the beginning in OrderedDict?"
   ]
  },
  {
   "cell_type": "code",
   "execution_count": 86,
   "id": "a9a1ccc1",
   "metadata": {},
   "outputs": [],
   "source": [
    "from collections import OrderedDict"
   ]
  },
  {
   "cell_type": "code",
   "execution_count": 87,
   "id": "684c3b1b",
   "metadata": {},
   "outputs": [
    {
     "data": {
      "text/plain": [
       "OrderedDict([('New', 1),\n",
       "             ('to', 1),\n",
       "             ('Python', 5),\n",
       "             ('or', 2),\n",
       "             ('choosing', 1),\n",
       "             ('between', 1),\n",
       "             ('2', 2),\n",
       "             ('and', 1),\n",
       "             ('3?', 1),\n",
       "             ('Read', 1),\n",
       "             ('3.', 1)])"
      ]
     },
     "execution_count": 87,
     "metadata": {},
     "output_type": "execute_result"
    }
   ],
   "source": [
    "d_od=OrderedDict(d)\n",
    "d_od"
   ]
  },
  {
   "cell_type": "code",
   "execution_count": 88,
   "id": "f842ec00",
   "metadata": {},
   "outputs": [
    {
     "data": {
      "text/plain": [
       "OrderedDict([('first_element', 100),\n",
       "             ('New', 1),\n",
       "             ('to', 1),\n",
       "             ('Python', 5),\n",
       "             ('or', 2),\n",
       "             ('choosing', 1),\n",
       "             ('between', 1),\n",
       "             ('2', 2),\n",
       "             ('and', 1),\n",
       "             ('3?', 1),\n",
       "             ('Read', 1),\n",
       "             ('3.', 1)])"
      ]
     },
     "execution_count": 88,
     "metadata": {},
     "output_type": "execute_result"
    }
   ],
   "source": [
    "d_od['first_element']=100\n",
    "d_od.move_to_end('first_element', last=False)\n",
    "d_od"
   ]
  },
  {
   "cell_type": "markdown",
   "id": "ffe3e04d",
   "metadata": {},
   "source": [
    "6. Write a Python program to check order of character in string using OrderedDict()?"
   ]
  },
  {
   "cell_type": "code",
   "execution_count": null,
   "id": "4fe8504d",
   "metadata": {},
   "outputs": [],
   "source": []
  },
  {
   "cell_type": "code",
   "execution_count": 89,
   "id": "40e388e2",
   "metadata": {},
   "outputs": [],
   "source": [
    "def check_order(word, substring):\n",
    "    dict = OrderedDict.fromkeys(word) \n",
    "    s = 0\n",
    "    for key,value in dict.items():\n",
    "        if (key == subsring[s]): \n",
    "            s+= 1\n",
    "        if s== len(subsring[s]):\n",
    "            return ('The order is maintained')\n",
    "            \n",
    "\n",
    "    return ('The order is not maintained')"
   ]
  },
  {
   "cell_type": "code",
   "execution_count": 90,
   "id": "d3debfc5",
   "metadata": {},
   "outputs": [
    {
     "name": "stdout",
     "output_type": "stream",
     "text": [
      "Enter the string: \n",
      "enter the letter which you want to check the order: \n"
     ]
    },
    {
     "data": {
      "text/plain": [
       "'The order is not maintained'"
      ]
     },
     "execution_count": 90,
     "metadata": {},
     "output_type": "execute_result"
    }
   ],
   "source": [
    "word= input('Enter the string: ')\n",
    "substring=input('enter the letter which you want to check the order: ')\n",
    "check_order(word, substring)"
   ]
  },
  {
   "cell_type": "markdown",
   "id": "e789d8c8",
   "metadata": {},
   "source": [
    "7. Write a Python program to sort Python Dictionaries by Key or Value?"
   ]
  },
  {
   "cell_type": "code",
   "execution_count": 91,
   "id": "ee722708",
   "metadata": {},
   "outputs": [
    {
     "name": "stdout",
     "output_type": "stream",
     "text": [
      "Do you want to soert the dictionary by key or value: \n",
      "[1, 1, 1, 1, 1, 1, 1, 1, 2, 2, 5]\n"
     ]
    }
   ],
   "source": [
    "n= input('Do you want to soert the dictionary by key or value: ')\n",
    "if n=='key':\n",
    "    print(sorted(d.keys()))\n",
    "else :\n",
    "    print(sorted(d.values()))"
   ]
  },
  {
   "cell_type": "code",
   "execution_count": null,
   "id": "dca48e33",
   "metadata": {},
   "outputs": [],
   "source": []
  },
  {
   "cell_type": "code",
   "execution_count": null,
   "id": "cdfd0c48",
   "metadata": {},
   "outputs": [],
   "source": []
  }
 ],
 "metadata": {
  "kernelspec": {
   "display_name": "Python 3 (ipykernel)",
   "language": "python",
   "name": "python3"
  },
  "language_info": {
   "codemirror_mode": {
    "name": "ipython",
    "version": 3
   },
   "file_extension": ".py",
   "mimetype": "text/x-python",
   "name": "python",
   "nbconvert_exporter": "python",
   "pygments_lexer": "ipython3",
   "version": "3.9.12"
  }
 },
 "nbformat": 4,
 "nbformat_minor": 5
}
