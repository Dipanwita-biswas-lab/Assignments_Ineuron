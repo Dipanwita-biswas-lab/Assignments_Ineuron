{
 "cells": [
  {
   "cell_type": "markdown",
   "id": "17509b08",
   "metadata": {},
   "source": [
    "\n",
    "4. Write a Python Program to Sort Words in Alphabetic Order?\n"
   ]
  },
  {
   "cell_type": "code",
   "execution_count": 1,
   "id": "33a8a227",
   "metadata": {},
   "outputs": [],
   "source": [
    "import numpy as np"
   ]
  },
  {
   "cell_type": "code",
   "execution_count": 11,
   "id": "9062f287",
   "metadata": {},
   "outputs": [],
   "source": [
    "#  let us create 2 matrices\n",
    "mat1=np.random.randint(1,10,size=(3,3))\n",
    "mat2=np.random.randint(23,55,size=(3,3))"
   ]
  },
  {
   "cell_type": "code",
   "execution_count": 12,
   "id": "289a312a",
   "metadata": {},
   "outputs": [
    {
     "data": {
      "text/plain": [
       "array([[8, 1, 2],\n",
       "       [9, 2, 9],\n",
       "       [2, 8, 9]])"
      ]
     },
     "execution_count": 12,
     "metadata": {},
     "output_type": "execute_result"
    }
   ],
   "source": [
    "mat1"
   ]
  },
  {
   "cell_type": "code",
   "execution_count": 13,
   "id": "256b9820",
   "metadata": {},
   "outputs": [
    {
     "data": {
      "text/plain": [
       "array([[45, 42, 42],\n",
       "       [48, 44, 47],\n",
       "       [54, 54, 35]])"
      ]
     },
     "execution_count": 13,
     "metadata": {},
     "output_type": "execute_result"
    }
   ],
   "source": [
    " mat2"
   ]
  },
  {
   "cell_type": "markdown",
   "id": "872e313b",
   "metadata": {},
   "source": [
    "1. Write a Python Program to Add Two Matrices?"
   ]
  },
  {
   "cell_type": "code",
   "execution_count": 16,
   "id": "1e309709",
   "metadata": {
    "scrolled": true
   },
   "outputs": [
    {
     "data": {
      "text/plain": [
       "array([[53, 43, 44],\n",
       "       [57, 46, 56],\n",
       "       [56, 62, 44]])"
      ]
     },
     "execution_count": 16,
     "metadata": {},
     "output_type": "execute_result"
    }
   ],
   "source": [
    "np.add(mat1, mat2)"
   ]
  },
  {
   "cell_type": "markdown",
   "id": "14429034",
   "metadata": {},
   "source": [
    "2. Write a Python Program to Multiply Two Matrices?"
   ]
  },
  {
   "cell_type": "code",
   "execution_count": 15,
   "id": "a4bbd24f",
   "metadata": {
    "scrolled": false
   },
   "outputs": [
    {
     "data": {
      "text/plain": [
       "array([[360,  42,  84],\n",
       "       [432,  88, 423],\n",
       "       [108, 432, 315]])"
      ]
     },
     "execution_count": 15,
     "metadata": {},
     "output_type": "execute_result"
    }
   ],
   "source": [
    "np.multiply(mat1,mat2)"
   ]
  },
  {
   "cell_type": "markdown",
   "id": "e28d7f25",
   "metadata": {},
   "source": [
    "3. Write a Python Program to Transpose a Matrix?"
   ]
  },
  {
   "cell_type": "code",
   "execution_count": 14,
   "id": "bc9581fa",
   "metadata": {},
   "outputs": [
    {
     "data": {
      "text/plain": [
       "array([[8, 9, 2],\n",
       "       [1, 2, 8],\n",
       "       [2, 9, 9]])"
      ]
     },
     "execution_count": 14,
     "metadata": {},
     "output_type": "execute_result"
    }
   ],
   "source": [
    "np.transpose(mat1)"
   ]
  },
  {
   "cell_type": "markdown",
   "id": "2b95cf51",
   "metadata": {},
   "source": [
    "4. Write a Python Program to Sort Words in Alphabetic Order?"
   ]
  },
  {
   "cell_type": "code",
   "execution_count": 30,
   "id": "e157a15b",
   "metadata": {},
   "outputs": [
    {
     "name": "stdout",
     "output_type": "stream",
     "text": [
      "how many words you want to enter: 5\n",
      "word0: eadks\n",
      "word1: rwjksfnmvc\n",
      "word2: oyfhklg\n",
      "word3: awejhdsn\n",
      "word4: xd\n",
      "sorted words are ['awejhdsn', 'eadks', 'oyfhklg', 'rwjksfnmvc', 'xd']\n"
     ]
    }
   ],
   "source": [
    "num=int(input('how many words you want to enter: '))\n",
    "l=[]\n",
    "for n in range(num):\n",
    "    st=str(input(f'word{n}: '))\n",
    "    l.append(st)\n",
    "    \n",
    "print(f\"sorted words are {sorted(l)}\")\n",
    "\n",
    "\n"
   ]
  },
  {
   "cell_type": "markdown",
   "id": "35d23b51",
   "metadata": {},
   "source": [
    "5. Write a Python Program to Remove Punctuation From a String?\n"
   ]
  },
  {
   "cell_type": "code",
   "execution_count": 43,
   "id": "38f0bb2b",
   "metadata": {},
   "outputs": [
    {
     "name": "stdout",
     "output_type": "stream",
     "text": [
      "please input a string: sgf!@#$\n",
      "sgf\n"
     ]
    }
   ],
   "source": [
    "import pandas as pd\n",
    "text=input(\"please input a string: \")\n",
    "punctuation=\"!@#$%^&*()/\"\n",
    "for char in punctuation:\n",
    "\n",
    "    if char in text:\n",
    "        text=text.replace(char, '')\n",
    "print(text)\n"
   ]
  },
  {
   "cell_type": "code",
   "execution_count": null,
   "id": "2d060d12",
   "metadata": {},
   "outputs": [],
   "source": []
  },
  {
   "cell_type": "code",
   "execution_count": null,
   "id": "36edba7b",
   "metadata": {},
   "outputs": [],
   "source": []
  }
 ],
 "metadata": {
  "kernelspec": {
   "display_name": "Python 3 (ipykernel)",
   "language": "python",
   "name": "python3"
  },
  "language_info": {
   "codemirror_mode": {
    "name": "ipython",
    "version": 3
   },
   "file_extension": ".py",
   "mimetype": "text/x-python",
   "name": "python",
   "nbconvert_exporter": "python",
   "pygments_lexer": "ipython3",
   "version": "3.9.7"
  }
 },
 "nbformat": 4,
 "nbformat_minor": 5
}
