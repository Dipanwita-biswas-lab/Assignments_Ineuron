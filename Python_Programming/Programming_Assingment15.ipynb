{
 "cells": [
  {
   "cell_type": "markdown",
   "id": "b3a0ac82",
   "metadata": {},
   "source": [
    "1. Please write a program using generator to print the numbers which can be divisible by 5 and 7 between 0 and n in comma separated form while n is input by console."
   ]
  },
  {
   "cell_type": "code",
   "execution_count": 1,
   "id": "b034a289",
   "metadata": {},
   "outputs": [],
   "source": [
    "def gendivisible(n):\n",
    "    for i in range(n):\n",
    "        if i%5 ==0 and i%7 ==0:\n",
    "            yield i"
   ]
  },
  {
   "cell_type": "code",
   "execution_count": 2,
   "id": "ecc8138a",
   "metadata": {},
   "outputs": [
    {
     "data": {
      "text/plain": [
       "'0,35,70'"
      ]
     },
     "execution_count": 2,
     "metadata": {},
     "output_type": "execute_result"
    }
   ],
   "source": [
    "lst=[str(i) for i in gendivisible(100)]\n",
    "','.join((lst))"
   ]
  },
  {
   "cell_type": "markdown",
   "id": "702bb0f9",
   "metadata": {},
   "source": [
    "2. Please write a program using generator to print the even numbers between 0 and n in comma separated form while n is input by console."
   ]
  },
  {
   "cell_type": "code",
   "execution_count": 3,
   "id": "be0a9db2",
   "metadata": {},
   "outputs": [],
   "source": [
    "def geneven(n):\n",
    "    for i in range(2,n+1,2):\n",
    "        yield i"
   ]
  },
  {
   "cell_type": "code",
   "execution_count": 4,
   "id": "d15ca51f",
   "metadata": {},
   "outputs": [
    {
     "data": {
      "text/plain": [
       "'2,4,6,8,10'"
      ]
     },
     "execution_count": 4,
     "metadata": {},
     "output_type": "execute_result"
    }
   ],
   "source": [
    "lst=[str(i) for i in geneven(10)]\n",
    "','.join((lst))"
   ]
  },
  {
   "cell_type": "markdown",
   "id": "b9678a01",
   "metadata": {},
   "source": [
    "3. The Fibonacci Sequence is computed based on the following formula:\n",
    "f(n)=0 if n=0\n",
    "f(n)=1 if n=1\n",
    "f(n)=f(n-1)+f(n-2) if n>1\n",
    "Please write a program using list comprehension to print the Fibonacci Sequence in comma separated form with a given n input by console."
   ]
  },
  {
   "cell_type": "markdown",
   "id": "9cfe8f90",
   "metadata": {},
   "source": [
    "Example:\n",
    "If the following n is given as input to the program:\n",
    "7\n",
    "\n",
    "Then, the output of the program should be:\n",
    "0,1,1,2,3,5,8,13"
   ]
  },
  {
   "cell_type": "code",
   "execution_count": 17,
   "id": "2599cbbc",
   "metadata": {},
   "outputs": [
    {
     "name": "stdout",
     "output_type": "stream",
     "text": [
      "Enter the lenght of the series which you want to find : 7\n",
      "[0, 1, 1, 2, 3, 5, 8, 13]\n"
     ]
    }
   ],
   "source": [
    "n=int(input('Enter the lenght of the series which you want to find : '))\n",
    "f=[0,1]\n",
    "fibo=[f.append(f[i-1]+f[i-2]) for i in range(2,n+1)]\n",
    "\n",
    "print(f)"
   ]
  },
  {
   "cell_type": "markdown",
   "id": "ade198ec",
   "metadata": {},
   "source": [
    "4: Assuming that we have some email addresses in the \"username@companyname.com\" format, please write program to print the user name of a given email address. Both user names and company names are composed of letters only."
   ]
  },
  {
   "cell_type": "markdown",
   "id": "950d690c",
   "metadata": {},
   "source": [
    "Example:\n",
    "If the following email address is given as input to the program:\n",
    "john@google.com\n",
    "Then, the output of the program should be:\n",
    "john"
   ]
  },
  {
   "cell_type": "code",
   "execution_count": 5,
   "id": "ec935421",
   "metadata": {},
   "outputs": [],
   "source": [
    "import regex"
   ]
  },
  {
   "cell_type": "code",
   "execution_count": 10,
   "id": "1c29b00c",
   "metadata": {},
   "outputs": [
    {
     "name": "stdout",
     "output_type": "stream",
     "text": [
      "Enter your email address: john@google.com\n",
      " john\n"
     ]
    }
   ],
   "source": [
    "email=str(input('Enter your email address:'))\n",
    "rg_email=\"^[a-zA-Z0-9+_.-]+@[a-zA-Z0-9.-]+$\"\n",
    "if regex.fullmatch(rg_email,email.strip()):\n",
    "    print((email.split('@'))[0])\n",
    "else:\n",
    "    print('Enter the correct email adress')"
   ]
  },
  {
   "cell_type": "markdown",
   "id": "d4e50ca5",
   "metadata": {},
   "source": [
    "5:Define a class named Shape and its subclass Square. The Square class has an init function which takes a length as argument. Both classes have a area function which can print the area of the shape where Shape's area is 0 by default."
   ]
  },
  {
   "cell_type": "code",
   "execution_count": 7,
   "id": "7533eeeb",
   "metadata": {},
   "outputs": [],
   "source": [
    "class Shape:\n",
    "    def area(self):\n",
    "        return 0\n",
    "    \n",
    "class Square(Shape):\n",
    "    def __init__(self, length):\n",
    "        self.length=length\n",
    "        \n",
    "    def area(self):\n",
    "        return self.length**2"
   ]
  },
  {
   "cell_type": "code",
   "execution_count": 8,
   "id": "7824eca0",
   "metadata": {},
   "outputs": [
    {
     "data": {
      "text/plain": [
       "0"
      ]
     },
     "execution_count": 8,
     "metadata": {},
     "output_type": "execute_result"
    }
   ],
   "source": [
    "sh=Shape()\n",
    "sh.area()"
   ]
  },
  {
   "cell_type": "code",
   "execution_count": 9,
   "id": "3a2bb9bd",
   "metadata": {},
   "outputs": [
    {
     "data": {
      "text/plain": [
       "121"
      ]
     },
     "execution_count": 9,
     "metadata": {},
     "output_type": "execute_result"
    }
   ],
   "source": [
    "sq=Square(11)\n",
    "sq.area()"
   ]
  },
  {
   "cell_type": "code",
   "execution_count": null,
   "id": "f8a3f8f5",
   "metadata": {},
   "outputs": [],
   "source": []
  }
 ],
 "metadata": {
  "kernelspec": {
   "display_name": "Python 3 (ipykernel)",
   "language": "python",
   "name": "python3"
  },
  "language_info": {
   "codemirror_mode": {
    "name": "ipython",
    "version": 3
   },
   "file_extension": ".py",
   "mimetype": "text/x-python",
   "name": "python",
   "nbconvert_exporter": "python",
   "pygments_lexer": "ipython3",
   "version": "3.9.12"
  }
 },
 "nbformat": 4,
 "nbformat_minor": 5
}
