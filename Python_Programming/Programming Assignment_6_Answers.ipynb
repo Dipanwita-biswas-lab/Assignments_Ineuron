{
 "cells": [
  {
   "cell_type": "markdown",
   "id": "7249aa4d",
   "metadata": {},
   "source": [
    "1. Write a Python Program to Display Fibonacci Sequence Using Recursion?"
   ]
  },
  {
   "cell_type": "code",
   "execution_count": 22,
   "id": "81719ce0",
   "metadata": {},
   "outputs": [
    {
     "name": "stdout",
     "output_type": "stream",
     "text": [
      "Enter a number : 5\n"
     ]
    },
    {
     "ename": "NameError",
     "evalue": "name 'fibbonacci' is not defined",
     "output_type": "error",
     "traceback": [
      "\u001b[0;31m---------------------------------------------------------------------------\u001b[0m",
      "\u001b[0;31mNameError\u001b[0m                                 Traceback (most recent call last)",
      "\u001b[0;32m/var/folders/7t/fhk5wxmd7rg6t9c41_n0tdgm0000gn/T/ipykernel_17765/47001684.py\u001b[0m in \u001b[0;36m<module>\u001b[0;34m\u001b[0m\n\u001b[1;32m     10\u001b[0m \u001b[0;34m\u001b[0m\u001b[0m\n\u001b[1;32m     11\u001b[0m \u001b[0;32mfor\u001b[0m \u001b[0mi\u001b[0m \u001b[0;32min\u001b[0m \u001b[0mrange\u001b[0m\u001b[0;34m(\u001b[0m\u001b[0mn\u001b[0m\u001b[0;34m)\u001b[0m\u001b[0;34m:\u001b[0m\u001b[0;34m\u001b[0m\u001b[0;34m\u001b[0m\u001b[0m\n\u001b[0;32m---> 12\u001b[0;31m     \u001b[0mprint\u001b[0m\u001b[0;34m(\u001b[0m\u001b[0;34m\"%d \"\u001b[0m\u001b[0;34m,\u001b[0m\u001b[0mfibbonacci\u001b[0m\u001b[0;34m(\u001b[0m\u001b[0mi\u001b[0m\u001b[0;34m)\u001b[0m\u001b[0;34m)\u001b[0m\u001b[0;34m;\u001b[0m\u001b[0;34m\u001b[0m\u001b[0;34m\u001b[0m\u001b[0m\n\u001b[0m",
      "\u001b[0;31mNameError\u001b[0m: name 'fibbonacci' is not defined"
     ]
    }
   ],
   "source": [
    "def fibbonacci(num):\n",
    "    if num==1:\n",
    "        return 1\n",
    "    elif num==0:\n",
    "        return 0\n",
    "    else:\n",
    "        return fibonacci(num-1)+fibonacci(num-2)\n",
    "\n",
    "n=int(input(\"Enter a number : \"))\n",
    "\n",
    "for i in range(n):\n",
    "    print(\"%d \",fibbonacci(i));            \n"
   ]
  },
  {
   "cell_type": "markdown",
   "id": "93ad2eee",
   "metadata": {},
   "source": [
    "2. Write a Python Program to Find Factorial of Number Using Recursion?"
   ]
  },
  {
   "cell_type": "code",
   "execution_count": 17,
   "id": "f1919942",
   "metadata": {},
   "outputs": [
    {
     "name": "stdout",
     "output_type": "stream",
     "text": [
      "Enter a number : 5\n"
     ]
    },
    {
     "data": {
      "text/plain": [
       "120"
      ]
     },
     "execution_count": 17,
     "metadata": {},
     "output_type": "execute_result"
    }
   ],
   "source": [
    "def factorial(num):\n",
    "    if num==1:\n",
    "        return 1\n",
    "    else:\n",
    "        return num*factorial(num-1)\n",
    "\n",
    "num=int(input(\"Enter a number : \"))\n",
    "print(f\"Factorial is {factorial(num)}\")"
   ]
  },
  {
   "cell_type": "markdown",
   "id": "aa052bd5",
   "metadata": {},
   "source": [
    "3. Write a Python Program to calculate your Body Mass Index?"
   ]
  },
  {
   "cell_type": "code",
   "execution_count": 4,
   "id": "669fb1dd",
   "metadata": {},
   "outputs": [
    {
     "name": "stdout",
     "output_type": "stream",
     "text": [
      "Enter a weight(kg) : 61\n",
      "Enter a height(cm) : 155\n",
      "BMI= 25.4 . You are in Overweight Category\n"
     ]
    }
   ],
   "source": [
    "weight=int(input(\"Enter a weight(kg) : \"))\n",
    "height=int(input(\"Enter a height(cm) : \"))\n",
    "height_m=height/100\n",
    "\n",
    "BMI=round(weight/(height_m**2),1)\n",
    "\n",
    "if BMI<18.5:\n",
    "    print(f\"BMI= {BMI} . You are in Underweight Category\")\n",
    "elif BMI>=18.5 and BMI<25:\n",
    "    print(f\"BMI= {BMI} . You are in Normal Category\")\n",
    "elif BMI>=25 and BMI<30:\n",
    "    print(f\"BMI= {BMI} . You are in Overweight Category\")\n",
    "else:\n",
    "    print(f\"BMI= {BMI} . You are in Obese Category\")\n"
   ]
  },
  {
   "cell_type": "markdown",
   "id": "0bc55cde",
   "metadata": {},
   "source": [
    "4. Write a Python Program to calculate the natural logarithm of any number?"
   ]
  },
  {
   "cell_type": "code",
   "execution_count": 10,
   "id": "556ee9ce",
   "metadata": {},
   "outputs": [
    {
     "name": "stdout",
     "output_type": "stream",
     "text": [
      "Enter a number : 30\n",
      "Natural log of 30 is 3.4011973816621555\n"
     ]
    }
   ],
   "source": [
    "num=int(input(\"Enter a number : \"))\n",
    "import math\n",
    "\n",
    "print(f\"Natural log of {num} is {(math.log(num))}\")"
   ]
  },
  {
   "cell_type": "markdown",
   "id": "ec723893",
   "metadata": {},
   "source": [
    "5. Write a Python Program for cube sum of first n natural numbers?"
   ]
  },
  {
   "cell_type": "code",
   "execution_count": 13,
   "id": "c5d54fdd",
   "metadata": {},
   "outputs": [
    {
     "name": "stdout",
     "output_type": "stream",
     "text": [
      "Enter upper number : 4\n",
      " Sume of cube of first 4 numbers is 100\n"
     ]
    }
   ],
   "source": [
    "num=int(input(\"Enter upper number : \"))\n",
    "sum_cube=0\n",
    "for i in range(1,num+1):\n",
    "    sum_cube+=i**3\n",
    "print(f'Sum of cube of first {num} numbers is {sum_cube}')"
   ]
  },
  {
   "cell_type": "code",
   "execution_count": null,
   "id": "a9c22543",
   "metadata": {},
   "outputs": [],
   "source": []
  }
 ],
 "metadata": {
  "kernelspec": {
   "display_name": "Python 3 (ipykernel)",
   "language": "python",
   "name": "python3"
  },
  "language_info": {
   "codemirror_mode": {
    "name": "ipython",
    "version": 3
   },
   "file_extension": ".py",
   "mimetype": "text/x-python",
   "name": "python",
   "nbconvert_exporter": "python",
   "pygments_lexer": "ipython3",
   "version": "3.9.7"
  }
 },
 "nbformat": 4,
 "nbformat_minor": 5
}
