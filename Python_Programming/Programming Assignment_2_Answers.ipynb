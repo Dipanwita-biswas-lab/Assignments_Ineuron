{
 "cells": [
  {
   "cell_type": "markdown",
   "id": "fcd7ed96",
   "metadata": {},
   "source": [
    "1. Write a Python program to convert kilometers to miles?"
   ]
  },
  {
   "cell_type": "code",
   "execution_count": 4,
   "id": "fabfdad5",
   "metadata": {},
   "outputs": [
    {
     "name": "stdout",
     "output_type": "stream",
     "text": [
      "Enter the distance in km : 50.5\n",
      "The converted distance is 31.31 miles\n"
     ]
    }
   ],
   "source": [
    "distance=float(input(\"Enter the distance in km : \"))\n",
    "print(f\"The converted distance is {distance*0.62} miles\")\n"
   ]
  },
  {
   "cell_type": "markdown",
   "id": "c6c737be",
   "metadata": {},
   "source": [
    "2. Write a Python program to convert Celsius to Fahrenheit?"
   ]
  },
  {
   "cell_type": "code",
   "execution_count": 7,
   "id": "3f3a6670",
   "metadata": {},
   "outputs": [
    {
     "name": "stdout",
     "output_type": "stream",
     "text": [
      "Enter the temperature in °C : 32\n",
      "The converted temperature is 89.6 °F\n"
     ]
    }
   ],
   "source": [
    "Celsius=float(input(\"Enter the temperature in °C : \"))\n",
    "print(f\"The converted temperature is {(Celsius* (9/5)) +32} °F\")\n"
   ]
  },
  {
   "cell_type": "markdown",
   "id": "762a384d",
   "metadata": {},
   "source": [
    "3. Write a Python program to display calendar?"
   ]
  },
  {
   "cell_type": "code",
   "execution_count": 13,
   "id": "6f2c541c",
   "metadata": {},
   "outputs": [
    {
     "name": "stdout",
     "output_type": "stream",
     "text": [
      "Enter the Year: 2022\n",
      "Enter the Month: 3\n",
      "     March 2022\n",
      "Mo Tu We Th Fr Sa Su\n",
      "    1  2  3  4  5  6\n",
      " 7  8  9 10 11 12 13\n",
      "14 15 16 17 18 19 20\n",
      "21 22 23 24 25 26 27\n",
      "28 29 30 31\n",
      "\n"
     ]
    }
   ],
   "source": [
    "import calendar\n",
    "year=int(input(\"Enter the Year: \"))\n",
    "month=int(input(\"Enter the Month: \"))\n",
    "print(calendar.month(year, month))"
   ]
  },
  {
   "cell_type": "markdown",
   "id": "34d4a185",
   "metadata": {},
   "source": [
    "4. Write a Python program to solve quadratic equation?"
   ]
  },
  {
   "cell_type": "code",
   "execution_count": 30,
   "id": "6bf40f8d",
   "metadata": {},
   "outputs": [
    {
     "name": "stdout",
     "output_type": "stream",
     "text": [
      "Enter the 1st num: 5\n",
      "Enter the 2nd num: 20\n",
      "Enter the 3rd num: 32\n",
      "The 2 roots are (-2+1.5491933384829668j) and (-2-1.5491933384829668j)\n"
     ]
    }
   ],
   "source": [
    "# ax**2+bx+c=0\n",
    "# 𝑥=(−𝑏+ math.sqrt((b**2)-(4*a*c)))/(2*a)\n",
    "#y=(−𝑏- math.sqrt((b**2)-(4*a*c)))/(2*a)\n",
    "\n",
    "import cmath\n",
    "a=int(input(\"Enter the 1st num: \"))\n",
    "b=int(input(\"Enter the 2nd num: \"))\n",
    "c=int(input(\"Enter the 3rd num: \"))\n",
    "discriminant=((b**2)-(4*a*c))\n",
    "root1=(-𝑏+ cmath.sqrt((discriminant)))/(2*a)\n",
    "root2=(-𝑏- cmath.sqrt((discriminant)))/(2*a)\n",
    "\n",
    "print(f\"The 2 roots are {root1} and {root2}\")\n"
   ]
  },
  {
   "cell_type": "markdown",
   "id": "60626882",
   "metadata": {},
   "source": [
    "5. Write a Python program to swap two variables without temp variable?"
   ]
  },
  {
   "cell_type": "code",
   "execution_count": 8,
   "id": "01e96bc1",
   "metadata": {},
   "outputs": [
    {
     "name": "stdout",
     "output_type": "stream",
     "text": [
      "Enter the number 1: 20\n",
      "Enter the number 2: 1\n",
      " the swapped number is num1: 1 and num2: 20.\n"
     ]
    }
   ],
   "source": [
    "num1=int(input(\"Enter the number 1: \"))\n",
    "num2=int(input(\"Enter the number 2: \"))\n",
    "\n",
    "num1, num2= num2, num1\n",
    "\n",
    "print(f\"The swapped number is num1: {num1} and num2: {num2}.\")\n"
   ]
  },
  {
   "cell_type": "code",
   "execution_count": null,
   "id": "02189e3a",
   "metadata": {},
   "outputs": [],
   "source": []
  }
 ],
 "metadata": {
  "kernelspec": {
   "display_name": "Python 3 (ipykernel)",
   "language": "python",
   "name": "python3"
  },
  "language_info": {
   "codemirror_mode": {
    "name": "ipython",
    "version": 3
   },
   "file_extension": ".py",
   "mimetype": "text/x-python",
   "name": "python",
   "nbconvert_exporter": "python",
   "pygments_lexer": "ipython3",
   "version": "3.9.7"
  }
 },
 "nbformat": 4,
 "nbformat_minor": 5
}
