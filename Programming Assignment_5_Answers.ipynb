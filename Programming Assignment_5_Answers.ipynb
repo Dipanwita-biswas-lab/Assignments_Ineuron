{
 "cells": [
  {
   "cell_type": "markdown",
   "id": "be84a9ed",
   "metadata": {},
   "source": [
    "1. Write a Python Program to Find LCM?"
   ]
  },
  {
   "cell_type": "code",
   "execution_count": 1,
   "id": "674699e1",
   "metadata": {},
   "outputs": [
    {
     "name": "stdout",
     "output_type": "stream",
     "text": [
      "For how many numbers you want to find the LCM: 3\n",
      "Enter a number 0 : 10\n",
      "Enter a number 1 : 20\n",
      "Enter a number 2 : 30\n",
      "The LCM is 60\n"
     ]
    }
   ],
   "source": [
    "LCM_count=int(input(\"For how many numbers you want to find the LCM: \"))\n",
    "lst_nums=[]\n",
    "for i in range(LCM_count):\n",
    "    num=int(input(f\"Enter a number {i} : \"))\n",
    "    lst_nums.append(num)\n",
    "\n",
    "import numpy as np\n",
    "print(f\"The LCM is {np.lcm.reduce(lst_nums)}\")\n"
   ]
  },
  {
   "cell_type": "markdown",
   "id": "8d9b49f8",
   "metadata": {},
   "source": [
    "2. Write a Python Program to Find HCF?"
   ]
  },
  {
   "cell_type": "code",
   "execution_count": 2,
   "id": "430f9dd9",
   "metadata": {},
   "outputs": [
    {
     "name": "stdout",
     "output_type": "stream",
     "text": [
      "For how many numbers you want to find the HCF: 3\n",
      "Enter a number 0 : 10\n",
      "Enter a number 1 : 20\n",
      "Enter a number 2 : 30\n",
      "The HCF is 10\n"
     ]
    }
   ],
   "source": [
    "GCD_count=int(input(\"For how many numbers you want to find the HCF: \"))\n",
    "lst_nums=[]\n",
    "for i in range(GCD_count):\n",
    "    num=int(input(f\"Enter a number {i} : \"))\n",
    "    lst_nums.append(num)\n",
    "\n",
    "\n",
    "print(f\"The HCF is {np.gcd.reduce(lst_nums)}\")\n"
   ]
  },
  {
   "cell_type": "markdown",
   "id": "f591fe40",
   "metadata": {},
   "source": [
    "3. Write a Python Program to Convert Decimal to Binary, Octal and Hexadecimal?"
   ]
  },
  {
   "cell_type": "code",
   "execution_count": 3,
   "id": "84dd178a",
   "metadata": {},
   "outputs": [
    {
     "name": "stdout",
     "output_type": "stream",
     "text": [
      "Enter number: 20\n",
      "Binary = 0b10100\n",
      "Hexadecimal = 0x14\n",
      "Octal = 0o24\n"
     ]
    }
   ],
   "source": [
    "num=int(input(\"Enter number: \"))\n",
    "print(f\"Binary = {bin(num)}\")\n",
    "print(f\"Hexadecimal = {hex(num)}\")\n",
    "print(f\"Octal = {oct(num)}\")"
   ]
  },
  {
   "cell_type": "markdown",
   "id": "06a9c5be",
   "metadata": {},
   "source": [
    "4. Write a Python Program To Find ASCII value of a character?"
   ]
  },
  {
   "cell_type": "code",
   "execution_count": 4,
   "id": "0be95311",
   "metadata": {},
   "outputs": [
    {
     "name": "stdout",
     "output_type": "stream",
     "text": [
      "Enter Charecter: f\n",
      "ascii value is 102\n"
     ]
    }
   ],
   "source": [
    "num=input(\"Enter Charecter: \")\n",
    "print(f\"ascii value is {ord(num)}\")\n"
   ]
  },
  {
   "cell_type": "markdown",
   "id": "5cf2bcdc",
   "metadata": {},
   "source": [
    "5. Write a Python Program to Make a Simple Calculator with 4 basic mathematical operations?"
   ]
  },
  {
   "cell_type": "code",
   "execution_count": 7,
   "id": "0df1345f",
   "metadata": {},
   "outputs": [
    {
     "name": "stdout",
     "output_type": "stream",
     "text": [
      "Enter the number 1: 20\n",
      "Enter the number 2: 0\n",
      "Which function you want to do\n",
      "    1. Addition\n",
      "    2. Substraction\n",
      "    3. Multiplication\n",
      "    4. Division: \n",
      "    4\n",
      "Denoninator cannot be 0\n"
     ]
    }
   ],
   "source": [
    "num1=int(input(\"Enter the number 1: \"))\n",
    "num2=int(input(\"Enter the number 2: \"))\n",
    "function= int(input('''Which function you want to do\n",
    "    1. Addition\n",
    "    2. Substraction\n",
    "    3. Multiplication\n",
    "    4. Division: \n",
    "    '''))\n",
    "\n",
    "if function==1:\n",
    "    print(num1+num2)\n",
    "elif function==2:\n",
    "    print(num1-num2)\n",
    "elif function==3:\n",
    "    print(num1*num2)\n",
    "elif function==4 and num2 == 0:\n",
    "    print(\"Denoninator cannot be 0\")\n",
    "elif function==4:\n",
    "    print(num1/num2)\n",
    "else:\n",
    "    print(\"Please select a valid function\")"
   ]
  },
  {
   "cell_type": "markdown",
   "id": "2ea6e09b",
   "metadata": {},
   "source": [
    "### "
   ]
  }
 ],
 "metadata": {
  "kernelspec": {
   "display_name": "Python 3 (ipykernel)",
   "language": "python",
   "name": "python3"
  },
  "language_info": {
   "codemirror_mode": {
    "name": "ipython",
    "version": 3
   },
   "file_extension": ".py",
   "mimetype": "text/x-python",
   "name": "python",
   "nbconvert_exporter": "python",
   "pygments_lexer": "ipython3",
   "version": "3.9.7"
  }
 },
 "nbformat": 4,
 "nbformat_minor": 5
}
