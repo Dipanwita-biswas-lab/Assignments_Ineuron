{
 "cells": [
  {
   "cell_type": "markdown",
   "id": "c94850ff",
   "metadata": {},
   "source": [
    "1. Write a Python program to find words which are greater than given length k?"
   ]
  },
  {
   "cell_type": "code",
   "execution_count": 31,
   "id": "5a742d06",
   "metadata": {},
   "outputs": [
    {
     "name": "stdout",
     "output_type": "stream",
     "text": [
      "What is the threshold: 4\n",
      "following are above the threshold\n",
      "String\n",
      "object\n",
      "represent\n",
      "manipulate\n",
      "sequence\n",
      "characters.\n"
     ]
    }
   ],
   "source": [
    "string=\"The String object is used to represent and manipulate a sequence of characters.\"\n",
    "num= int(input('What is the threshold: '))\n",
    "print('FSollowing are above the threshold')\n",
    "string_split=string.split()\n",
    "for i in string_split:\n",
    "    if len(i)>num:\n",
    "        print(i)"
   ]
  },
  {
   "cell_type": "markdown",
   "id": "9502f96c",
   "metadata": {},
   "source": [
    "2. Write a Python program for removing i-th character from a string?"
   ]
  },
  {
   "cell_type": "code",
   "execution_count": 27,
   "id": "a1a5d51a",
   "metadata": {},
   "outputs": [
    {
     "name": "stdout",
     "output_type": "stream",
     "text": [
      "Enter string: dipanwiata\n",
      "Enter which position charecter you want to remove: 7\n",
      "after removing a value is dipanwita\n"
     ]
    }
   ],
   "source": [
    "string=input(\"Enter string: \")\n",
    "rem=int(input(\"Enter which position charecter you want to remove: \"))\n",
    "\n",
    "print(f\"after removing {string[rem]} value is {string[:rem]+string[rem+1:]}\" )"
   ]
  },
  {
   "cell_type": "markdown",
   "id": "ec5d9685",
   "metadata": {},
   "source": [
    "3. Write a Python program to split and join a string?\n"
   ]
  },
  {
   "cell_type": "code",
   "execution_count": 12,
   "id": "5862dfdd",
   "metadata": {},
   "outputs": [
    {
     "name": "stdout",
     "output_type": "stream",
     "text": [
      "Enter string:rimi biswas hello world\n",
      "splited string is :['rimi', 'biswas', 'hello', 'world']\n",
      "splited string is :rimibiswashelloworld\n"
     ]
    }
   ],
   "source": [
    "string=input(\"Enter string:\")\n",
    "splits=string.split()\n",
    "print(f\"splited string is :{splits}\")\n",
    "print(f\"splited string is :{''.join(splits)}\")"
   ]
  },
  {
   "cell_type": "markdown",
   "id": "4aff1bb7",
   "metadata": {},
   "source": [
    "4. Write a Python to check if a given string is binary string or not?"
   ]
  },
  {
   "cell_type": "code",
   "execution_count": 37,
   "id": "dd313614",
   "metadata": {},
   "outputs": [
    {
     "name": "stdout",
     "output_type": "stream",
     "text": [
      "Enter number:010101\n",
      "This is a binary string\n"
     ]
    }
   ],
   "source": [
    "#  contains 0/1\n",
    "string=str(input(\"Enter number:\"))\n",
    "if string.isdigit() and ((string.count('0')+string.count('1'))==len(string)):\n",
    "    print('This is a binary string')\n",
    "else:\n",
    "    print('This is not binary string')\n"
   ]
  },
  {
   "cell_type": "markdown",
   "id": "6e29a254",
   "metadata": {},
   "source": [
    "5. Write a Python program to find uncommon words from two Strings?"
   ]
  },
  {
   "cell_type": "code",
   "execution_count": 23,
   "id": "35f30fd1",
   "metadata": {},
   "outputs": [
    {
     "name": "stdout",
     "output_type": "stream",
     "text": [
      "Enter string1:rimi hello\n",
      "Enter string2:rimi world\n",
      "world hello are the uncommon words\n"
     ]
    }
   ],
   "source": [
    "string1=input(\"Enter string1:\")\n",
    "string2=input(\"Enter string2:\")\n",
    "uncommon=set.symmetric_difference(set(string1.split()), set(string2.split()))\n",
    "\n",
    "print( *uncommon , 'are the uncommon words')\n"
   ]
  },
  {
   "cell_type": "markdown",
   "id": "44cb6ab7",
   "metadata": {},
   "source": [
    "6. Write a Python to find all duplicate characters in string?"
   ]
  },
  {
   "cell_type": "code",
   "execution_count": 6,
   "id": "58ab4639",
   "metadata": {},
   "outputs": [
    {
     "name": "stdout",
     "output_type": "stream",
     "text": [
      "i s p\n"
     ]
    }
   ],
   "source": [
    "string=\"mississippi\"\n",
    "duplicate=[]\n",
    "for i in string:\n",
    "    if string.count(i)>1 and i not in duplicate:\n",
    "         duplicate.append(i)\n",
    "print(*duplicate)"
   ]
  },
  {
   "cell_type": "markdown",
   "id": "ef6310f9",
   "metadata": {},
   "source": [
    "7. Write a Python Program to check if a string contains any special character"
   ]
  },
  {
   "cell_type": "code",
   "execution_count": 40,
   "id": "b4e7bcb1",
   "metadata": {},
   "outputs": [
    {
     "name": "stdout",
     "output_type": "stream",
     "text": [
      "Enter string:jbhnklm!@#$%\n",
      "This does not contain special charecter\n"
     ]
    }
   ],
   "source": [
    "special_char=['~`!@#$%^&()-_+={}[]|\\/:;\"\\'<>,.?']\n",
    "string=input(\"Enter string:\")\n",
    "\n",
    "for i in special_char:\n",
    "    if string.count(i)>0:\n",
    "        \n",
    "        print(i,\"This contains a special Charecter\")\n",
    "        break\n",
    "else:\n",
    "    print('This does not contain special charecter')"
   ]
  },
  {
   "cell_type": "code",
   "execution_count": null,
   "id": "cd751087",
   "metadata": {},
   "outputs": [],
   "source": []
  }
 ],
 "metadata": {
  "kernelspec": {
   "display_name": "Python 3 (ipykernel)",
   "language": "python",
   "name": "python3"
  },
  "language_info": {
   "codemirror_mode": {
    "name": "ipython",
    "version": 3
   },
   "file_extension": ".py",
   "mimetype": "text/x-python",
   "name": "python",
   "nbconvert_exporter": "python",
   "pygments_lexer": "ipython3",
   "version": "3.9.7"
  }
 },
 "nbformat": 4,
 "nbformat_minor": 5
}
